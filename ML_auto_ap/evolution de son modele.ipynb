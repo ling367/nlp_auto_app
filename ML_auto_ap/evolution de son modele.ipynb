{
 "cells": [
  {
   "cell_type": "code",
   "execution_count": 7,
   "id": "7801fec1",
   "metadata": {},
   "outputs": [],
   "source": [
    "#convertir les equations sous forme matricielle \n",
    "#contenue de la matrice et theta\n",
    "import numpy as np;\n",
    "from sklearn.datasets import make_regression\n",
    "#pour visualiser les données \n",
    "import matplotlib.pyplot as plt "
   ]
  },
  {
   "cell_type": "code",
   "execution_count": 8,
   "id": "9c8b5d1a",
   "metadata": {},
   "outputs": [
    {
     "data": {
      "text/plain": [
       "<matplotlib.collections.PathCollection at 0x7fe462149310>"
      ]
     },
     "execution_count": 8,
     "metadata": {},
     "output_type": "execute_result"
    },
    {
     "data": {
      "image/png": "[encoded data removed]",
      "text/plain": [
       "<Figure size 432x288 with 1 Axes>"
      ]
     },
     "metadata": {
      "needs_background": "light"
     },
     "output_type": "display_data"
    }
   ],
   "source": [
    "# un modèle polynomiale\n",
    "#pour toujours reproduire le même dataset\n",
    "np.random.seed(0)\n",
    "x,y = make_regression(n_samples = 100 , n_features = 1, noise = 10)\n",
    "y = y +abs(y/2)\n",
    "plt.scatter(x,y)"
   ]
  },
  {
   "cell_type": "code",
   "execution_count": 23,
   "id": "4eb92339",
   "metadata": {},
   "outputs": [
    {
     "name": "stdout",
     "output_type": "stream",
     "text": [
      "(100, 1)\n",
      "(100, 1)\n"
     ]
    }
   ],
   "source": [
    "print(x.shape)\n",
    "#make_regression , les dimentions des y sont incompletes -- donc [reshape] pour redimentionner\n",
    "y = y.reshape(y.shape[0],1) #on prend le nombre de lignes dans y appelé shape[0]\n",
    "print(y.shape)"
   ]
  },
  {
   "cell_type": "code",
   "execution_count": 24,
   "id": "d0844537",
   "metadata": {},
   "outputs": [
    {
     "name": "stdout",
     "output_type": "stream",
     "text": [
      "(100, 3)\n",
      "[[ 0.12927848 -0.35955316  1.        ]\n",
      " [ 0.95382381  0.97663904  1.        ]\n",
      " [ 0.1618788   0.40234164  1.        ]\n",
      " [ 0.66120688 -0.81314628  1.        ]\n",
      " [ 0.78816353 -0.88778575  1.        ]\n",
      " [ 0.19701457  0.44386323  1.        ]\n",
      " [ 0.95507205 -0.97727788  1.        ]\n",
      " [ 0.18346819  0.42833187  1.        ]\n",
      " [ 0.04337847  0.20827498  1.        ]\n",
      " [ 0.09706498 -0.31155253  1.        ]]\n"
     ]
    }
   ],
   "source": [
    "#créer matrice X \n",
    "#hstake coller deux vecteurs numpy ensemble\n",
    "#je colle mon vexteur X à côté d'un vecteur des 1 qui a le même nombre de lignes que X\n",
    "X = np.hstack((x, np.ones(x.shape)))\n",
    "X = np.hstack((x**2,X))\n",
    "print (X.shape)\n",
    "print (X[:10])#print juste les 10 première lignes "
   ]
  },
  {
   "cell_type": "code",
   "execution_count": 26,
   "id": "5398e79c",
   "metadata": {},
   "outputs": [
    {
     "data": {
      "text/plain": [
       "array([[ 1.15233156],\n",
       "       [ 1.07961859],\n",
       "       [-0.81336426]])"
      ]
     },
     "execution_count": 26,
     "metadata": {},
     "output_type": "execute_result"
    }
   ],
   "source": [
    "theta = np.random.randn(3,1)\n",
    "theta.shape\n",
    "theta"
   ]
  },
  {
   "cell_type": "code",
   "execution_count": 27,
   "id": "4bfaf58f",
   "metadata": {},
   "outputs": [
    {
     "data": {
      "text/plain": [
       "[<matplotlib.lines.Line2D at 0x7fe461735ac0>]"
      ]
     },
     "execution_count": 27,
     "metadata": {},
     "output_type": "execute_result"
    },
    {
     "data": {
      "image/png": "[encoded data removed]",
      "text/plain": [
       "<Figure size 432x288 with 1 Axes>"
      ]
     },
     "metadata": {
      "needs_background": "light"
     },
     "output_type": "display_data"
    }
   ],
   "source": [
    "#Modèle linéraire \n",
    "\n",
    "def model (X,theta):\n",
    "    #profuit matriciel\n",
    "    return X.dot(theta)\n",
    "\n",
    "plt.scatter(x,y)\n",
    "plt.plot(x,model(X,theta),c ='r')"
   ]
  },
  {
   "cell_type": "code",
   "execution_count": 28,
   "id": "eccbc629",
   "metadata": {},
   "outputs": [],
   "source": [
    "#fonction côut\n",
    "def cost_fonction(x,y,theta):\n",
    "    m = len(y)\n",
    "    return 1/(2*m)* np.sum((model(X,theta)-y)**2)"
   ]
  },
  {
   "cell_type": "code",
   "execution_count": 29,
   "id": "a533a14d",
   "metadata": {},
   "outputs": [
    {
     "data": {
      "text/plain": [
       "1205.309692363075"
      ]
     },
     "execution_count": 29,
     "metadata": {},
     "output_type": "execute_result"
    }
   ],
   "source": [
    "cost_fonction (X,y,theta) #on veut que ce soit proche du 0"
   ]
  },
  {
   "cell_type": "code",
   "execution_count": 30,
   "id": "f8cf249f",
   "metadata": {},
   "outputs": [],
   "source": [
    "#gradients et descente de gradients \n",
    "def grad(X,y,theta):\n",
    "    m = len(y)\n",
    "    return 1/m* X.T.dot(model(X,theta)-y)"
   ]
  },
  {
   "cell_type": "code",
   "execution_count": 62,
   "id": "057bf8ef",
   "metadata": {},
   "outputs": [],
   "source": [
    "# descente de gradients \n",
    "\n",
    "\n",
    "\n",
    "#phase d'entrainement \n",
    "def gradient_descent(X,y,theta,learning_rate, n_iterations):\n",
    "    cost_history = np.zeros(n_iterations)\n",
    "    #créer theta history initialiser avec un tableux \n",
    "    theta_history = np.zeros((n_iterations,2))\n",
    "    for i in range(0,n_iterations):\n",
    "        theta = theta - learning_rate * grad(X,y,theta)\n",
    "        cost_history[i] = cost_fonction(X,y,theta)\n",
    "        theta_history[i,:] = theta.T \n",
    "        \n",
    "    return theta, cost_history, theta_history\n"
   ]
  },
  {
   "cell_type": "code",
   "execution_count": 64,
   "id": "170c4ebe",
   "metadata": {},
   "outputs": [
    {
     "ename": "ValueError",
     "evalue": "could not broadcast input array from shape (3,) into shape (2,)",
     "output_type": "error",
     "traceback": [
      "\u001b[0;31m---------------------------------------------------------------------------\u001b[0m",
      "\u001b[0;31mValueError\u001b[0m                                Traceback (most recent call last)",
      "Input \u001b[0;32mIn [64]\u001b[0m, in \u001b[0;36m<cell line: 3>\u001b[0;34m()\u001b[0m\n\u001b[1;32m      1\u001b[0m n_iterations \u001b[38;5;241m=\u001b[39m \u001b[38;5;241m10\u001b[39m\n\u001b[1;32m      2\u001b[0m learning_rate \u001b[38;5;241m=\u001b[39m \u001b[38;5;241m0.01\u001b[39m\n\u001b[0;32m----> 3\u001b[0m theta_final, cost_history , theta_history\u001b[38;5;241m=\u001b[39m \u001b[43mgradient_descent\u001b[49m\u001b[43m(\u001b[49m\u001b[43mX\u001b[49m\u001b[43m,\u001b[49m\u001b[43my\u001b[49m\u001b[43m,\u001b[49m\u001b[43mtheta\u001b[49m\u001b[43m,\u001b[49m\u001b[43mlearning_rate\u001b[49m\u001b[43m,\u001b[49m\u001b[43m \u001b[49m\u001b[43mn_iterations\u001b[49m\u001b[43m)\u001b[49m\n\u001b[1;32m      5\u001b[0m predictions \u001b[38;5;241m=\u001b[39m model(X,theta_final)\n\u001b[1;32m      6\u001b[0m plt\u001b[38;5;241m.\u001b[39mscatter(x,y)\n",
      "Input \u001b[0;32mIn [62]\u001b[0m, in \u001b[0;36mgradient_descent\u001b[0;34m(X, y, theta, learning_rate, n_iterations)\u001b[0m\n\u001b[1;32m     11\u001b[0m     theta \u001b[38;5;241m=\u001b[39m theta \u001b[38;5;241m-\u001b[39m learning_rate \u001b[38;5;241m*\u001b[39m grad(X,y,theta)\n\u001b[1;32m     12\u001b[0m     cost_history[i] \u001b[38;5;241m=\u001b[39m cost_fonction(X,y,theta)\n\u001b[0;32m---> 13\u001b[0m     theta_history[i,:] \u001b[38;5;241m=\u001b[39m theta\u001b[38;5;241m.\u001b[39mT \n\u001b[1;32m     15\u001b[0m \u001b[38;5;28;01mreturn\u001b[39;00m theta, cost_history, theta_history\n",
      "\u001b[0;31mValueError\u001b[0m: could not broadcast input array from shape (3,) into shape (2,)"
     ]
    }
   ],
   "source": [
    "n_iterations = 10\n",
    "learning_rate = 0.01\n",
    "theta_final, cost_history , theta_history= gradient_descent(X,y,theta,learning_rate, n_iterations)\n",
    "\n",
    "predictions = model(X,theta_final)\n",
    "plt.scatter(x,y)\n",
    "for i in range (n_iterations):\n",
    "    plt.plot(x,model(X,theta_history[i]))\n",
    "    ????????????????????????????????????????????"
   ]
  },
  {
   "cell_type": "code",
   "execution_count": 46,
   "id": "6f136703",
   "metadata": {},
   "outputs": [
    {
     "data": {
      "text/plain": [
       "[<matplotlib.lines.Line2D at 0x7f99f67727c0>]"
      ]
     },
     "execution_count": 46,
     "metadata": {},
     "output_type": "execute_result"
    },
    {
     "data": {
      "image/png": "[encoded data removed]",
      "text/plain": [
       "<Figure size 432x288 with 1 Axes>"
      ]
     },
     "metadata": {
      "needs_background": "light"
     },
     "output_type": "display_data"
    }
   ],
   "source": [
    "plt.plot(range(10),cost_history) # à traver les 100\n",
    "#si valeur se rapproche d'un manimale, c'est que c'est réussi"
   ]
  },
  {
   "cell_type": "code",
   "execution_count": 47,
   "id": "fa119813",
   "metadata": {},
   "outputs": [
    {
     "data": {
      "text/plain": [
       "0.9772295611859987"
      ]
     },
     "execution_count": 47,
     "metadata": {},
     "output_type": "execute_result"
    }
   ],
   "source": [
    "#évaluer  la performation du modèle pour montrer aux gens \n",
    "# la coéficient de détermination \n",
    "#moindre carré\n",
    "#R²\n",
    "def coef_determination (y,predi):\n",
    "    u = ((y-predi)**2).sum()#residu de la somme des carrée\n",
    "    v = ((y - y.mean())**2).sum()\n",
    "    return 1 - u/v\n",
    "coef_determination (y,prediction)"
   ]
  }
 ],
 "metadata": {
  "kernelspec": {
   "display_name": "Python 3 (ipykernel)",
   "language": "python",
   "name": "python3"
  },
  "language_info": {
   "codemirror_mode": {
    "name": "ipython",
    "version": 3
   },
   "file_extension": ".py",
   "mimetype": "text/x-python",
   "name": "python",
   "nbconvert_exporter": "python",
   "pygments_lexer": "ipython3",
   "version": "3.9.12"
  }
 },
 "nbformat": 4,
 "nbformat_minor": 5
}
