{
 "cells": [
  {
   "cell_type": "code",
   "execution_count": 2,
   "id": "e4d75763",
   "metadata": {},
   "outputs": [
    {
     "name": "stdout",
     "output_type": "stream",
     "text": [
      "2 positif\n"
     ]
    }
   ],
   "source": [
    "#if elif else \n",
    "\n",
    "def nature_numb(x):\n",
    "    if x > 0:\n",
    "        print (x,'positif')\n",
    "    elif x ==0 : \n",
    "        print (x,'nul')\n",
    "    else :\n",
    "        print (x,'négatif')    \n",
    "x = 2\n",
    "nature_numb(x)"
   ]
  },
  {
   "cell_type": "code",
   "execution_count": 3,
   "id": "bc98f82e",
   "metadata": {},
   "outputs": [
    {
     "name": "stdout",
     "output_type": "stream",
     "text": [
      "-10 négatif\n",
      "-8 négatif\n",
      "-6 négatif\n",
      "-4 négatif\n",
      "-2 négatif\n",
      "0 nul\n",
      "2 positif\n",
      "4 positif\n",
      "6 positif\n",
      "8 positif\n"
     ]
    }
   ],
   "source": [
    "for i in range(-10,10,2) : #3e argument - le pas (on bouge à chaque fois de combien)\n",
    "    nature_numb(i) #fonction dans fonction "
   ]
  },
  {
   "cell_type": "code",
   "execution_count": 4,
   "id": "6f22a1a6",
   "metadata": {},
   "outputs": [
    {
     "name": "stdout",
     "output_type": "stream",
     "text": [
      "0\n",
      "1\n",
      "2\n",
      "3\n",
      "4\n",
      "5\n",
      "6\n",
      "7\n",
      "8\n",
      "9\n"
     ]
    }
   ],
   "source": [
    "x = 0 \n",
    "\n",
    "while x<10: #quand x >10 , on interrompe la boucle \n",
    "    print (x)\n",
    "    x+=1"
   ]
  },
  {
   "cell_type": "code",
   "execution_count": 5,
   "id": "1e1d02a5",
   "metadata": {},
   "outputs": [
    {
     "data": {
      "text/plain": [
       "False"
      ]
     },
     "execution_count": 5,
     "metadata": {},
     "output_type": "execute_result"
    }
   ],
   "source": [
    "def e_pontentielle_limite (masse,hauteur, limite,g = 9.91):\n",
    "    E= masse*hauteur *g \n",
    "    return E<limite #!!!!!!!!!!!!! return = true quans E<limite, false quand E> limite \n",
    "\n",
    "e_pontentielle_limite(50,10,200)"
   ]
  },
  {
   "cell_type": "code",
   "execution_count": null,
   "id": "a37c0683",
   "metadata": {},
   "outputs": [],
   "source": [
    "def fibonacci (n):\n",
    "    #return la suite de fibonacci jusqu'à n \n",
    "    #SOLUTION 1 Récursivité \n",
    "    if n<=1:\n",
    "        return n\n",
    "    else:\n",
    "        return (fibonacci(n-1)+fibonacci(n-2))\n",
    "n = int(input(\"Veuillez entrer le nombre de termes:\"))\n",
    "print ('suite de Fibonacci avec la recursion :')\n",
    "for i in range (n):\n",
    "    print (fibonacci(i))"
   ]
  },
  {
   "cell_type": "code",
   "execution_count": null,
   "id": "8ac66285",
   "metadata": {},
   "outputs": [],
   "source": [
    "#liste \n",
    "\n",
    "#liste.append = ajoute à la fin de la liste \n",
    "#liste.insert(index,element) #insérer à un endroit précis\n",
    "#liste2\n",
    "#liste.extend(liste2) = ajouter une liste à la fin de la liste \n",
    "\n",
    "#len(liste) = la taille de la liste \n",
    "\n",
    "#pour trier une liste \n",
    "\n",
    "\n",
    "#liste.sort(liste) = par ordre alphabetique \n",
    "#liste.sort(reverse = True) = ordre anti-alphabetique \n",
    "#compter le nombre d fois qu'une valeur apparait dans une liste \n",
    "\n",
    "#liste.count('element')\n",
    "\n"
   ]
  },
  {
   "cell_type": "code",
   "execution_count": null,
   "id": "e83f892c",
   "metadata": {},
   "outputs": [],
   "source": [
    "#liste dans une boucle \n",
    "\n",
    "#la commande zip = utiliser deux listes ensemble \n",
    "\n",
    "for a, b in zip(liste,liste2):\n",
    "    print (a,b)\n",
    "    #la boucle s'arrête à la fin de la liste la plus courte "
   ]
  },
  {
   "cell_type": "code",
   "execution_count": null,
   "id": "eae6ef7a",
   "metadata": {},
   "outputs": [],
   "source": [
    "#while fibonacci , dans une liste\n",
    "list_fibo = []\n",
    "def fibo_list(n):\n",
    "    a = 0\n",
    "    b = 1\n",
    "    while a < n:\n",
    "        list_fibo.append(a)\n",
    "        a,b = b,a+b\n",
    "    return (list_fibo)\n",
    "fibo_list(9)"
   ]
  },
  {
   "cell_type": "code",
   "execution_count": null,
   "id": "2db9920c",
   "metadata": {},
   "outputs": [],
   "source": [
    "#dictionnaire  - clé \n",
    "#un ensemble d'affectation (clé:valeur)\n",
    "\n",
    "dico = {\n",
    "    \"bananas\":10,\n",
    "    \"pommes\":20,\n",
    "    \"poires\":22\n",
    "}\n",
    "dico.values()\n",
    "len(dico)"
   ]
  },
  {
   "cell_type": "code",
   "execution_count": null,
   "id": "302308f0",
   "metadata": {},
   "outputs": [],
   "source": [
    "#pour ajouter une association dans le dictinonaire \n",
    "dico[\"abricors\"] = 32\n",
    "dico"
   ]
  },
  {
   "cell_type": "code",
   "execution_count": null,
   "id": "5b2b1db7",
   "metadata": {},
   "outputs": [],
   "source": [
    "#dictionnaire n'est pas une séquence , pas de position pas de ordre \n",
    "#get pour chercher la valeur d'une clé dans le dico, par défaut si on ne trouve pas le résultat c'est \"\"NONE\"\n",
    "#si on met (clé,valeur_définie) , le print sera la valeur que l'on défini derrière le virgule \n",
    "print (dico.get ('bananas',1) )\n",
    "\n",
    "# méthode fromkeys  = créer un dico à partir d'une liste de clés que l'on fourni \n",
    "dicoo = {}\n",
    "lis = [\"nii\",\"hao\", \"ma\"]\n",
    "dicoo.fromkeys(lis) "
   ]
  },
  {
   "cell_type": "code",
   "execution_count": null,
   "id": "0d0af606",
   "metadata": {},
   "outputs": [],
   "source": [
    "#valeur par défaut , None, on peur insérer une valeur pour toutes les clés \n",
    "dicoo.fromkeys(lis,'chinois')"
   ]
  },
  {
   "cell_type": "code",
   "execution_count": null,
   "id": "f123ad5e",
   "metadata": {},
   "outputs": [],
   "source": [
    "#pop qui existe aussi pour liste \n",
    "#extraire une association dans le dico \n",
    "you = dico.pop(\"pommes\") #faut que ce soit number "
   ]
  },
  {
   "cell_type": "code",
   "execution_count": null,
   "id": "b39046df",
   "metadata": {},
   "outputs": [],
   "source": [
    "you"
   ]
  },
  {
   "cell_type": "code",
   "execution_count": null,
   "id": "87be82a3",
   "metadata": {},
   "outputs": [],
   "source": [
    "for i in dico.values():\n",
    "    print (i)"
   ]
  },
  {
   "cell_type": "code",
   "execution_count": null,
   "id": "0094ad35",
   "metadata": {},
   "outputs": [],
   "source": [
    "for k,v in dico.items():\n",
    "    print(k,v)"
   ]
  },
  {
   "cell_type": "code",
   "execution_count": null,
   "id": "e7d3ddbe",
   "metadata": {},
   "outputs": [],
   "source": [
    "classeur = {\n",
    "    \"positif\":[],\n",
    "    \"negatif\":[],\n",
    "}"
   ]
  },
  {
   "cell_type": "code",
   "execution_count": null,
   "id": "f0584625",
   "metadata": {},
   "outputs": [],
   "source": [
    "def trier(classeur,nombre):\n",
    "    if nombre <0  :\n",
    "        classeur['positif'].append(nombre)\n",
    "    else: \n",
    "        classeur['negatif'].append(nombre)\n",
    "    return classer"
   ]
  },
  {
   "cell_type": "code",
   "execution_count": null,
   "id": "974619cc",
   "metadata": {},
   "outputs": [],
   "source": [
    "import time"
   ]
  },
  {
   "cell_type": "code",
   "execution_count": null,
   "id": "1ed178cc",
   "metadata": {},
   "outputs": [],
   "source": [
    "#liste comprehension \n",
    "#tous les carrés de 0 à 9\n",
    "start = time.time()\n",
    "liste_1 = []\n",
    "for i in range (100000):\n",
    "    liste_1.append(i**2)\n",
    "end = time.time()\n",
    "print (end-start)"
   ]
  },
  {
   "cell_type": "code",
   "execution_count": null,
   "id": "96c8f469",
   "metadata": {},
   "outputs": [],
   "source": [
    "start = time.time()\n",
    "liste_2 = [i**2 for i in range(10)] #une liste comprehension \n",
    "print(liste_2)\n",
    "end = time.time()\n",
    "print (end-start)\n",
    "#pourquoi ? \n",
    "# 1 - pro\n",
    "#2 - moins d'espace\n",
    "#3 - processe plus rapide \n"
   ]
  },
  {
   "cell_type": "code",
   "execution_count": null,
   "id": "ef2399ce",
   "metadata": {},
   "outputs": [],
   "source": [
    "#nested list - une liste qui conteient d'autres listes\n",
    "\n",
    "liste_3 = [[i for i in range(3)] for j in range (2)]\n",
    "liste_3"
   ]
  },
  {
   "cell_type": "code",
   "execution_count": null,
   "id": "727fe5f1",
   "metadata": {},
   "outputs": [],
   "source": [
    "\n",
    "##Dicr Comprehension\n",
    "\n",
    "dictionnaire = {'0':'Pierre',\n",
    "                '1':'Jean',\n",
    "                '2':'Julie'\n",
    "                '3':'Sophia'}\n"
   ]
  },
  {
   "cell_type": "code",
   "execution_count": null,
   "id": "da7d73b0",
   "metadata": {},
   "outputs": [],
   "source": [
    "prenoms = {'Pierre','Jean','Julie','Sophia'}\n",
    "dico = {k:v for k,v in enumerate (prenoms)} # enumérer les valauers dans le dico \n",
    "print (dico)"
   ]
  },
  {
   "cell_type": "code",
   "execution_count": null,
   "id": "358bc6b0",
   "metadata": {},
   "outputs": [],
   "source": [
    "#zip \n",
    "on ajoute une liste de valeurs aux clés dans un dico \n",
    "ages= [23,25,76,33]\n",
    "dico_2 = {prenom:age for prenom,age in zip(prenoms,ages) if age >25}\n",
    "print(dico_2)"
   ]
  },
  {
   "cell_type": "code",
   "execution_count": null,
   "id": "6046f74c",
   "metadata": {},
   "outputs": [],
   "source": [
    "#tuples comprehension \n",
    "\n",
    "tuple_1 = (i**2 for i in range(10))\n",
    "tuple_1 # what is genetateur ?? "
   ]
  },
  {
   "cell_type": "code",
   "execution_count": null,
   "id": "04f618d6",
   "metadata": {},
   "outputs": [],
   "source": [
    "tuple_1 = tuple (i**2 for i in range(10))\n",
    "tuple_1"
   ]
  },
  {
   "cell_type": "code",
   "execution_count": null,
   "id": "dbd282da",
   "metadata": {},
   "outputs": [],
   "source": [
    "#dictionnaire k:v\n",
    "#k = 0 -2O\n",
    "#v = k**2\n"
   ]
  },
  {
   "cell_type": "code",
   "execution_count": null,
   "id": "d30066ed",
   "metadata": {},
   "outputs": [],
   "source": [
    "carres_pairs = {\n",
    "                    str(k):k**2 for k in range(0,20)\n",
    "}\n",
    "print (carres_pairs)"
   ]
  },
  {
   "cell_type": "code",
   "execution_count": null,
   "id": "7c127256",
   "metadata": {},
   "outputs": [],
   "source": [
    "#fonctionnnnnn \n",
    "#abs (valeur absolu)\n",
    "#all ()  true quand tout est true\n",
    "#any ()  true quand au moins un entre les éléments est true\n",
    "\n",
    "#convertir un variable à un autre \n",
    "#tuple en liste \n",
    "#liste en tuple \n",
    "\n",
    "# type() - détecter la type de la valeur \n",
    "x = 10\n",
    "type (x)\n",
    "y = str(x)\n",
    "type(y)"
   ]
  },
  {
   "cell_type": "code",
   "execution_count": null,
   "id": "0b07087d",
   "metadata": {},
   "outputs": [],
   "source": [
    "float(x)"
   ]
  },
  {
   "cell_type": "code",
   "execution_count": null,
   "id": "82030bb4",
   "metadata": {},
   "outputs": [],
   "source": [
    "liste_1 = [0,18,78,90,234]"
   ]
  },
  {
   "cell_type": "code",
   "execution_count": null,
   "id": "d0aadd83",
   "metadata": {},
   "outputs": [],
   "source": [
    "tuple_1 = tuple(liste_1)"
   ]
  },
  {
   "cell_type": "code",
   "execution_count": null,
   "id": "b4da1d27",
   "metadata": {},
   "outputs": [],
   "source": [
    "list(tuple_1)"
   ]
  },
  {
   "cell_type": "code",
   "execution_count": null,
   "id": "7978499b",
   "metadata": {},
   "outputs": [],
   "source": [
    "bin(15)\n",
    "oct(10)"
   ]
  },
  {
   "cell_type": "code",
   "execution_count": null,
   "id": "180886e3",
   "metadata": {},
   "outputs": [],
   "source": [
    "#fonction : input ()\n",
    "#demande à l'utilisateur à insérer un truc\n",
    "\n",
    "x = int(input('Veuillez entrer un nombre :'))"
   ]
  },
  {
   "cell_type": "code",
   "execution_count": null,
   "id": "ea1521a9",
   "metadata": {},
   "outputs": [],
   "source": [
    "type(x)"
   ]
  },
  {
   "cell_type": "code",
   "execution_count": null,
   "id": "8618c05c",
   "metadata": {},
   "outputs": [],
   "source": [
    "x = 12\n",
    "ville = 'Paris'\n",
    "message = \"la température est de {} degC à {}\".format(x,ville)\n",
    "print (message)"
   ]
  },
  {
   "cell_type": "code",
   "execution_count": null,
   "id": "e520a023",
   "metadata": {},
   "outputs": [],
   "source": [
    "import numpy as np\n",
    "paramettres = {\n",
    "    \"w1\": np.random.randn(2,4),\n",
    "    \"b1\": np.zeros((2,1)),\n",
    "    \"w2\":np.random.randn(2,2),\n",
    "    \"b2\":np.zeros((2,1))\n",
    "}\n",
    "#réseau neurones\n"
   ]
  },
  {
   "cell_type": "code",
   "execution_count": null,
   "id": "5603f7fe",
   "metadata": {},
   "outputs": [],
   "source": [
    "for i in range(1,3):\n",
    "    print('couche',i)\n",
    "    #print(paramettres[\"w{}\".format(i)])\n",
    "    print(paramettres[\"w\"+str(i)])"
   ]
  },
  {
   "cell_type": "code",
   "execution_count": null,
   "id": "facc0811",
   "metadata": {},
   "outputs": [],
   "source": [
    "f = open('fichier.txt','w')\n",
    "f.write('bonjour')\n",
    "f.close()"
   ]
  },
  {
   "cell_type": "code",
   "execution_count": null,
   "id": "fbf38b7e",
   "metadata": {},
   "outputs": [],
   "source": [
    "f = open('fichier.txt','r')\n",
    "print(f.read())\n",
    "f.close()"
   ]
  },
  {
   "cell_type": "code",
   "execution_count": null,
   "id": "573a704a",
   "metadata": {},
   "outputs": [],
   "source": [
    "with open('fichier.txt','w') as fichier :\n",
    "    for i in range (10):\n",
    "        fichier.write(\"{}² = {} \\n\".format(i,i**2))"
   ]
  },
  {
   "cell_type": "code",
   "execution_count": null,
   "id": "e5781681",
   "metadata": {},
   "outputs": [],
   "source": [
    "#les modules\n",
    "\n",
    "#programmatino orientation objet \n",
    "\n",
    "#univers est rempli d'objet \n",
    "#objets peuvent être caractérisés par les attributs\n",
    "\n",
    "\n",
    "#tout objet peut potentiellement faire des actions \n",
    "\n"
   ]
  },
  {
   "cell_type": "code",
   "execution_count": null,
   "id": "05d6dc74",
   "metadata": {},
   "outputs": [],
   "source": [
    "#numpy !!!!!!!!!!!!!!!important pour entraîner les données\n",
    "import numpy as np\n",
    "#np.ndarray([1,2,3])\n",
    "#shape donne un tuple !! séquence \n",
    "A= np.array([1,2,3])\n",
    "A.shape\n",
    "#"
   ]
  },
  {
   "cell_type": "code",
   "execution_count": null,
   "id": "f33f89e8",
   "metadata": {},
   "outputs": [],
   "source": [
    "np.array(objet)\n",
    "np.full(shape,value)\n",
    "np.zeros(shape)\n",
    "np.ones(shape)\n",
    "np.eye()\n",
    "no.random.randn(shape)\n"
   ]
  },
  {
   "cell_type": "code",
   "execution_count": null,
   "id": "1ece5102",
   "metadata": {},
   "outputs": [],
   "source": [
    "B= np.zeros((3,2))\n",
    "B.size\n",
    "B"
   ]
  },
  {
   "cell_type": "code",
   "execution_count": null,
   "id": "b07cf7b1",
   "metadata": {},
   "outputs": [],
   "source": [
    "C = np.ones((3,2))\n",
    "C"
   ]
  },
  {
   "cell_type": "code",
   "execution_count": null,
   "id": "2a453411",
   "metadata": {},
   "outputs": [],
   "source": [
    "D = np.full((2,3),2)\n",
    "D"
   ]
  },
  {
   "cell_type": "code",
   "execution_count": null,
   "id": "162c8054",
   "metadata": {},
   "outputs": [],
   "source": [
    "np.random.seed(0\n",
    "              )\n",
    "E = np.random.randn(3,6)\n",
    "E #générateur de nombre améatoire \n",
    "np.eye(5) #matrice d'itenditté "
   ]
  },
  {
   "cell_type": "code",
   "execution_count": null,
   "id": "e92ed827",
   "metadata": {},
   "outputs": [],
   "source": [
    "#constructeur \n",
    "np.linspace(0,10,19)"
   ]
  },
  {
   "cell_type": "code",
   "execution_count": null,
   "id": "f70e643e",
   "metadata": {},
   "outputs": [],
   "source": [
    "np.arange(0,10,0.1) # le pas , 3E"
   ]
  },
  {
   "cell_type": "code",
   "execution_count": null,
   "id": "da1a0376",
   "metadata": {},
   "outputs": [],
   "source": [
    "np.int64 #le nombre de bytes qu'occupe la valeur, le plus qu'il occupe de bytes, la plus que la vleur est précise"
   ]
  },
  {
   "cell_type": "code",
   "execution_count": null,
   "id": "441a6f8b",
   "metadata": {},
   "outputs": [],
   "source": [
    "#asssembler les matrices verticalement ou horrisontablement \n",
    "F = np.hstack((C,B))\n",
    "F\n",
    "F.shape"
   ]
  },
  {
   "cell_type": "code",
   "execution_count": null,
   "id": "74d1972d",
   "metadata": {},
   "outputs": [],
   "source": [
    "I = np.vstack((C,B))\n",
    "I.shape"
   ]
  },
  {
   "cell_type": "code",
   "execution_count": null,
   "id": "d5d989d3",
   "metadata": {},
   "outputs": [],
   "source": [
    "#même opération , même c'est mieux, pour les 3 dimentions \n",
    "\n",
    "#les axes !!!!!!\n",
    "np.concatenate((C,B),axis=1)\n"
   ]
  },
  {
   "cell_type": "code",
   "execution_count": null,
   "id": "e9fefd21",
   "metadata": {},
   "outputs": [],
   "source": [
    "np.concatenate((C,B),axis=0)"
   ]
  },
  {
   "cell_type": "code",
   "execution_count": null,
   "id": "c4f354c9",
   "metadata": {},
   "outputs": [],
   "source": [
    "np.concatenate((C,B),axis = 2)"
   ]
  },
  {
   "cell_type": "code",
   "execution_count": null,
   "id": "011a8beb",
   "metadata": {},
   "outputs": [],
   "source": [
    "#reshape, donner une nouvelle forme \n",
    "I = I.reshape((3,4)) #toujours dans un tuple\n",
    "I"
   ]
  },
  {
   "cell_type": "code",
   "execution_count": null,
   "id": "d30977d6",
   "metadata": {},
   "outputs": [],
   "source": [
    "A = np.array([1,2,3])\n",
    "A.shape\n",
    "A= A.reshape((A.shape[0],1))\n",
    "A.shape              "
   ]
  },
  {
   "cell_type": "code",
   "execution_count": null,
   "id": "c0dc15e0",
   "metadata": {},
   "outputs": [],
   "source": [
    "A = A.squeeze()\n",
    "A\n",
    "#remettre \n",
    "\n",
    "#applatire le tableau dans une seule dimention \n",
    "\n",
    "i=I.ravel()\n",
    "i.shape\n"
   ]
  },
  {
   "cell_type": "code",
   "execution_count": null,
   "id": "cd1b7bbf",
   "metadata": {},
   "outputs": [],
   "source": [
    "#devoir \n",
    "#retourne une matrice aléatoire (m,n+1)\n",
    "#colle une collone biais de 1 à droit\n",
    "def initialisation(m,n):\n",
    "    X = np.random.randn(m,n)\n",
    "    X = np.concatenate((X,np.ones((X.shape[0],1))),axis=1)\n",
    "    \n",
    "    return X\n",
    "\n",
    "initialisation(3,2)"
   ]
  },
  {
   "cell_type": "code",
   "execution_count": null,
   "id": "1dee4799",
   "metadata": {},
   "outputs": [],
   "source": [
    "import numpy as np\n",
    "A = np.array([[1,2,3],[4,5,6],[7,8,9]])\n",
    "A"
   ]
  },
  {
   "cell_type": "code",
   "execution_count": null,
   "id": "e0450ae1",
   "metadata": {},
   "outputs": [],
   "source": [
    "A[1,:]"
   ]
  },
  {
   "cell_type": "code",
   "execution_count": null,
   "id": "17c67e95",
   "metadata": {},
   "outputs": [],
   "source": [
    "A[1]"
   ]
  },
  {
   "cell_type": "code",
   "execution_count": null,
   "id": "1d3fb2c5",
   "metadata": {},
   "outputs": [],
   "source": [
    "#un bloc \n",
    "B = A[0:2,0:2]\n",
    "B\n",
    "B.shape"
   ]
  },
  {
   "cell_type": "code",
   "execution_count": null,
   "id": "e86f415e",
   "metadata": {},
   "outputs": [],
   "source": [
    "#pour modifier un boc\n",
    "A[0:2,0:2]=10\n",
    "A"
   ]
  },
  {
   "cell_type": "code",
   "execution_count": null,
   "id": "67b34b88",
   "metadata": {},
   "outputs": [],
   "source": [
    "A[:,-2:] #toutes les lignes mais que deux dernières colonnes - donc -2"
   ]
  },
  {
   "cell_type": "code",
   "execution_count": null,
   "id": "46e9ddc7",
   "metadata": {},
   "outputs": [],
   "source": [
    "B = np.zeros((4,4))\n",
    "B"
   ]
  },
  {
   "cell_type": "code",
   "execution_count": null,
   "id": "82f33c72",
   "metadata": {},
   "outputs": [],
   "source": [
    "#en slicing, dernier élément non pris en compte\n",
    "B [1:3,1:3] =1\n",
    "B"
   ]
  },
  {
   "cell_type": "code",
   "execution_count": null,
   "id": "c5f1276d",
   "metadata": {},
   "outputs": [],
   "source": [
    "C = np.zeros((5,5))\n",
    "C"
   ]
  },
  {
   "cell_type": "code",
   "execution_count": null,
   "id": "93b66d0e",
   "metadata": {},
   "outputs": [],
   "source": [
    "C[::2,::2]=1  # début, fin, pas \n",
    "C"
   ]
  },
  {
   "cell_type": "code",
   "execution_count": null,
   "id": "fd15b1a7",
   "metadata": {},
   "outputs": [],
   "source": [
    "#boolean indexing\n",
    "A= np.random.randint(0,10,[5,5])\n",
    "A"
   ]
  },
  {
   "cell_type": "code",
   "execution_count": null,
   "id": "426062a1",
   "metadata": {},
   "outputs": [],
   "source": [
    "A<5\n",
    "#un mask "
   ]
  },
  {
   "cell_type": "code",
   "execution_count": null,
   "id": "2f1b4c09",
   "metadata": {},
   "outputs": [],
   "source": [
    "#filtre les données d'un tableau qui a la même dimention\n",
    "A[A<5] # détruit la shape et il reste un tableau avec une dimention"
   ]
  },
  {
   "cell_type": "code",
   "execution_count": null,
   "id": "02d040e5",
   "metadata": {},
   "outputs": [],
   "source": [
    "A[A<5]= 10 #modifier les éléments qui correspondent à une condition \n",
    "A"
   ]
  },
  {
   "cell_type": "code",
   "execution_count": null,
   "id": "6e389d5e",
   "metadata": {},
   "outputs": [],
   "source": [
    "A[(A<10) & (A>6)] =1\n",
    "A"
   ]
  },
  {
   "cell_type": "code",
   "execution_count": null,
   "id": "9d5741d8",
   "metadata": {},
   "outputs": [],
   "source": [
    "from scipy import misc\n",
    "import matplotlib.pyplot as plt\n",
    "face = misc.face(gray = True)\n",
    "plt.imshow(face,cmap = plt.cm.gray)\n",
    "plt.show()\n",
    "face.shape"
   ]
  },
  {
   "cell_type": "code",
   "execution_count": null,
   "id": "100f7415",
   "metadata": {},
   "outputs": [],
   "source": [
    "#zoomer d'un quart au milieu\n",
    "h=face.shape[0]\n",
    "w=face.shape[1]\n",
    "#print(h,w)\n",
    "#slicing /indexing \n",
    "zoom_face = face[h//4:-h//4,w//4:-w//4]\n",
    "#augmenter la lumiositer \n",
    "#zoom_face[zoom_face>150]=255  -- plus saturée\n",
    "plt.imshow(zoom_face,cmap = plt.cm.gray)\n",
    "plt.show()"
   ]
  },
  {
   "cell_type": "code",
   "execution_count": null,
   "id": "fa283bee",
   "metadata": {},
   "outputs": [],
   "source": [
    "#compression d'image \n",
    "face = face[::2,::2]\n",
    "plt.imshow(face,cmap = plt.cm.gray)\n",
    "plt.show()"
   ]
  },
  {
   "cell_type": "code",
   "execution_count": null,
   "id": "16f5b790",
   "metadata": {},
   "outputs": [],
   "source": [
    "#méthode ndarry\n",
    "\n",
    "\n",
    "\n",
    "\n",
    "\n",
    "np.random.seed(0)\n",
    "C = np.random.randint(0,10,[2,3])\n",
    "C"
   ]
  },
  {
   "cell_type": "code",
   "execution_count": null,
   "id": "74a842a6",
   "metadata": {},
   "outputs": [],
   "source": [
    "C.sum(axis=0)"
   ]
  },
  {
   "cell_type": "code",
   "execution_count": null,
   "id": "f5c7f2b2",
   "metadata": {},
   "outputs": [],
   "source": [
    "C.sum(axis=1)"
   ]
  },
  {
   "cell_type": "code",
   "execution_count": null,
   "id": "1ef6fc43",
   "metadata": {},
   "outputs": [],
   "source": [
    "C.cumsum()"
   ]
  },
  {
   "cell_type": "code",
   "execution_count": null,
   "id": "ef246413",
   "metadata": {},
   "outputs": [],
   "source": [
    "C.argmin(axis =0) #trouver la position du minimum "
   ]
  },
  {
   "cell_type": "code",
   "execution_count": null,
   "id": "8446a06f",
   "metadata": {},
   "outputs": [],
   "source": [
    "#trouver les indexs dans l'ordre de tri du tableau du plus petit au plus grand  sans modifier le tableau--argsort\n",
    "\n",
    "C.argsort()"
   ]
  },
  {
   "cell_type": "code",
   "execution_count": null,
   "id": "f8cc5cc3",
   "metadata": {},
   "outputs": [],
   "source": [
    "np.exp(C)"
   ]
  },
  {
   "cell_type": "code",
   "execution_count": null,
   "id": "8dba7af3",
   "metadata": {},
   "outputs": [],
   "source": [
    "C.mean()"
   ]
  },
  {
   "cell_type": "code",
   "execution_count": null,
   "id": "4562fa9e",
   "metadata": {},
   "outputs": [],
   "source": [
    "C.var()"
   ]
  },
  {
   "cell_type": "code",
   "execution_count": null,
   "id": "7a9f2be8",
   "metadata": {},
   "outputs": [],
   "source": [
    "C.std()"
   ]
  },
  {
   "cell_type": "code",
   "execution_count": null,
   "id": "79658bba",
   "metadata": {},
   "outputs": [],
   "source": [
    "#la correlation entre les lignes ou les colonnes qu'on veut \n",
    "\n",
    "\n",
    "np.corrcoef(C)\n",
    "\n"
   ]
  },
  {
   "cell_type": "code",
   "execution_count": null,
   "id": "b34e1da3",
   "metadata": {},
   "outputs": [],
   "source": [
    "np.corrcoef(C)[0,1]"
   ]
  },
  {
   "cell_type": "code",
   "execution_count": null,
   "id": "83336331",
   "metadata": {},
   "outputs": [],
   "source": [
    "np.unique(C,return_counts=True)#unique - trouver les antités présentes dans le tableau, et le nombre de fois de leur apparition "
   ]
  },
  {
   "cell_type": "code",
   "execution_count": null,
   "id": "6363969d",
   "metadata": {},
   "outputs": [],
   "source": [
    "values,counts = np.unique(C,return_counts=True)\n",
    "values[counts.argsort()]"
   ]
  },
  {
   "cell_type": "code",
   "execution_count": null,
   "id": "57cea8a6",
   "metadata": {},
   "outputs": [],
   "source": [
    "for i,j in zip(values[counts.argsort()],counts[counts.argsort()]):\n",
    "    print(f'valeur{i} apparait {j}')"
   ]
  },
  {
   "cell_type": "code",
   "execution_count": null,
   "id": "1946c77e",
   "metadata": {},
   "outputs": [],
   "source": [
    "A = np.random.rand(5,5)\n",
    "A[0,2] = np.nan\n",
    "A[4,2] = np.nan\n",
    "A"
   ]
  },
  {
   "cell_type": "code",
   "execution_count": null,
   "id": "239218b2",
   "metadata": {},
   "outputs": [],
   "source": [
    "np.nanmean(A)"
   ]
  },
  {
   "cell_type": "code",
   "execution_count": null,
   "id": "bc776b0d",
   "metadata": {},
   "outputs": [],
   "source": [
    "np.isnan(A) #trouver les cdonnées coronpus "
   ]
  },
  {
   "cell_type": "code",
   "execution_count": null,
   "id": "4f5aadae",
   "metadata": {},
   "outputs": [],
   "source": [
    "np.isnan(A).sum()"
   ]
  },
  {
   "cell_type": "code",
   "execution_count": null,
   "id": "314c2599",
   "metadata": {},
   "outputs": [],
   "source": [
    "np.isnan(A).sum()/A.size #la proportion des chiffres endommaé"
   ]
  },
  {
   "cell_type": "code",
   "execution_count": null,
   "id": "43def9c7",
   "metadata": {},
   "outputs": [],
   "source": [
    "A[np.isnan(A)]=0\n",
    "A"
   ]
  },
  {
   "cell_type": "code",
   "execution_count": null,
   "id": "ae98083c",
   "metadata": {},
   "outputs": [],
   "source": [
    "np.linalg.det(A)"
   ]
  },
  {
   "cell_type": "code",
   "execution_count": null,
   "id": "c2f82a91",
   "metadata": {},
   "outputs": [],
   "source": [
    "np.linalg.inv(A) #retourne l'inverse de notre matrice "
   ]
  },
  {
   "cell_type": "code",
   "execution_count": null,
   "id": "d200f74e",
   "metadata": {},
   "outputs": [],
   "source": [
    "np.linalg.pinv(A) "
   ]
  },
  {
   "cell_type": "code",
   "execution_count": null,
   "id": "44bf6b4b",
   "metadata": {},
   "outputs": [],
   "source": [
    "#########################################\n",
    "#trouver valeur propre et vecteur propore\n",
    "\n",
    "np.linalg.eig(A)"
   ]
  },
  {
   "cell_type": "code",
   "execution_count": null,
   "id": "1d2702d6",
   "metadata": {},
   "outputs": [],
   "source": [
    "np.random.seed(0)\n",
    "#stantardiser/normaliser un datdset \n",
    "#mean normalisation\n",
    "#Standardization - Z-sorce  normanilsatino ( X' = (X-moyenne)/ecartype)\n",
    "\n",
    "Z = np.random.randint(0,100,[10,5]) #0-100, 10 lignes 5 colonnes \n",
    "Z"
   ]
  },
  {
   "cell_type": "code",
   "execution_count": null,
   "id": "ee34ac7f",
   "metadata": {},
   "outputs": [],
   "source": [
    "#on travaille sur l'axis =0\n",
    "D = (Z-Z.mean(axis=0))/Z.std(axis=0)"
   ]
  },
  {
   "cell_type": "code",
   "execution_count": null,
   "id": "ba90ab19",
   "metadata": {},
   "outputs": [],
   "source": [
    "D #standartiser "
   ]
  },
  {
   "cell_type": "code",
   "execution_count": null,
   "id": "3ab3b1fc",
   "metadata": {},
   "outputs": [],
   "source": [
    "D.mean(axis=0)"
   ]
  },
  {
   "cell_type": "code",
   "execution_count": null,
   "id": "a0d9ce54",
   "metadata": {},
   "outputs": [],
   "source": [
    "D.std(axis=0) #écartype 1 == stantard , distribution parfiate "
   ]
  },
  {
   "cell_type": "code",
   "execution_count": null,
   "id": "9f83a249",
   "metadata": {},
   "outputs": [],
   "source": [
    "#technique broadcasting \n",
    "\n",
    "#calcul entre deux tableaux rapides C = A+B\n",
    "#seulement quand les tableaux sont les mêmes dimentions \n",
    "\n",
    "\n",
    "#Broadcasting = calcul entre les tableaux qui n'ont pas la même dimension \n",
    "\n",
    "np.random.seed(0)\n",
    "A = np.random.randint(0,10,[4,1])\n",
    "B= np.ones((3,))\n",
    "A"
   ]
  },
  {
   "cell_type": "code",
   "execution_count": null,
   "id": "dfffe616",
   "metadata": {},
   "outputs": [],
   "source": [
    "B"
   ]
  },
  {
   "cell_type": "code",
   "execution_count": null,
   "id": "cfc540ec",
   "metadata": {},
   "outputs": [],
   "source": [
    "A+B # faut avoir au moins un côté pareil  (2,3)(3,1) écrit superposer "
   ]
  },
  {
   "cell_type": "code",
   "execution_count": null,
   "id": "62e24a1a",
   "metadata": {},
   "outputs": [],
   "source": [
    "#ç aa marché mais !!!!! dangereux \n",
    "#faut toujours vérifier les dimentions et utilise reshape ---- catastrophe de gradient \n"
   ]
  },
  {
   "cell_type": "code",
   "execution_count": null,
   "id": "8e3db65a",
   "metadata": {},
   "outputs": [],
   "source": [
    "#matplotlib \n",
    "\n",
    "#les graphiques \n",
    "#deux méthodes - OOP - plt.plot \n",
    "\n",
    "#plt.show()\n",
    "#plt.plot()"
   ]
  },
  {
   "cell_type": "code",
   "execution_count": null,
   "id": "7aae74d9",
   "metadata": {},
   "outputs": [],
   "source": [
    "import matplotlib.pyplot as plt\n",
    "x = np.linspace(0,2,10)\n",
    "y = x**2\n",
    "print(x)"
   ]
  },
  {
   "cell_type": "code",
   "execution_count": null,
   "id": "bd659b7c",
   "metadata": {},
   "outputs": [],
   "source": [
    "plt.plot(x,y)\n",
    "plt.show()"
   ]
  },
  {
   "cell_type": "code",
   "execution_count": null,
   "id": "48bcdc6c",
   "metadata": {},
   "outputs": [],
   "source": [
    "plt.scatter(x,y)"
   ]
  },
  {
   "cell_type": "code",
   "execution_count": null,
   "id": "45c82e7f",
   "metadata": {},
   "outputs": [],
   "source": [
    "#faire simple \n",
    "plot(x,y,label = nom de la courbe ,lw= épaisseur du trait,ls= style du trait  , c=couleur)"
   ]
  },
  {
   "cell_type": "code",
   "execution_count": null,
   "id": "3ae057ca",
   "metadata": {},
   "outputs": [],
   "source": [
    "plt.plot(x,y,c='red',lw=5)"
   ]
  },
  {
   "cell_type": "code",
   "execution_count": null,
   "id": "b075cc8e",
   "metadata": {},
   "outputs": [],
   "source": [
    "plt.figure(figsize=(12,8)) #la fênetre de travail"
   ]
  },
  {
   "cell_type": "code",
   "execution_count": null,
   "id": "72777d3c",
   "metadata": {},
   "outputs": [],
   "source": [
    "plt.plot(x,y,label = 'a')\n",
    "plt.plot(x,x**3,label ='b')\n",
    "plt.title('figure1')\n",
    "plt.xlabel('axe x')\n",
    "plt.ylabel('axe y')\n",
    "plt.legend() #légender les courbe \n",
    "plt.show()\n",
    "plt.savefig('figure.png')\n",
    "\n",
    "plt.figure()\n",
    "plt.plot(x,y)"
   ]
  },
  {
   "cell_type": "code",
   "execution_count": null,
   "id": "7678cb60",
   "metadata": {},
   "outputs": [],
   "source": [
    "plt.subplot(ligne,colonne,position)"
   ]
  },
  {
   "cell_type": "code",
   "execution_count": null,
   "id": "fc3076ad",
   "metadata": {},
   "outputs": [],
   "source": [
    "plt.subplot(2,1,1)\n",
    "plt.plot(x,y,c='blue')\n",
    "plt.subplot(2,1,2)\n",
    "plt.plot(x,y,c='red')"
   ]
  },
  {
   "cell_type": "code",
   "execution_count": null,
   "id": "5eb85f8f",
   "metadata": {},
   "outputs": [],
   "source": [
    "#cycle dans plt \n",
    "plt.figure()\n",
    "plt.subplot(2,2,1)\n",
    "plt.plot(x,y)\n",
    "plt.title('graph1')\n",
    "plt.subplot(2,2,2)\n",
    "plt.plot(x,np.sin(x),label='sinus')\n",
    "plt.plot(x,np.cos(x),label='cosinus')\n",
    "plt.legend()\n"
   ]
  },
  {
   "cell_type": "code",
   "execution_count": null,
   "id": "be907354",
   "metadata": {},
   "outputs": [],
   "source": [
    "#orienter objet OOP - plus rafiner mais difficile \n",
    "#ax est un tableau numpy\n",
    "\n",
    "fig,ax = plt.subplots(2,1,sharex=True)\n",
    "ax[0].plot(x,y)\n",
    "plt.show()"
   ]
  },
  {
   "cell_type": "code",
   "execution_count": 2,
   "id": "e3e9c779",
   "metadata": {},
   "outputs": [
    {
     "data": {
      "text/plain": [
       "{'experience0': array([ 1.76405235,  0.40015721,  0.97873798,  2.2408932 ,  1.86755799,\n",
       "        -0.97727788,  0.95008842, -0.15135721, -0.10321885,  0.4105985 ,\n",
       "         0.14404357,  1.45427351,  0.76103773,  0.12167502,  0.44386323,\n",
       "         0.33367433,  1.49407907, -0.20515826,  0.3130677 , -0.85409574,\n",
       "        -2.55298982,  0.6536186 ,  0.8644362 , -0.74216502,  2.26975462,\n",
       "        -1.45436567,  0.04575852, -0.18718385,  1.53277921,  1.46935877,\n",
       "         0.15494743,  0.37816252, -0.88778575, -1.98079647, -0.34791215,\n",
       "         0.15634897,  1.23029068,  1.20237985, -0.38732682, -0.30230275,\n",
       "        -1.04855297, -1.42001794, -1.70627019,  1.9507754 , -0.50965218,\n",
       "        -0.4380743 , -1.25279536,  0.77749036, -1.61389785, -0.21274028,\n",
       "        -0.89546656,  0.3869025 , -0.51080514, -1.18063218, -0.02818223,\n",
       "         0.42833187,  0.06651722,  0.3024719 , -0.63432209, -0.36274117,\n",
       "        -0.67246045, -0.35955316, -0.81314628, -1.7262826 ,  0.17742614,\n",
       "        -0.40178094, -1.63019835,  0.46278226, -0.90729836,  0.0519454 ,\n",
       "         0.72909056,  0.12898291,  1.13940068, -1.23482582,  0.40234164,\n",
       "        -0.68481009, -0.87079715, -0.57884966, -0.31155253,  0.05616534,\n",
       "        -1.16514984,  0.90082649,  0.46566244, -1.53624369,  1.48825219,\n",
       "         1.89588918,  1.17877957, -0.17992484, -1.07075262,  1.05445173,\n",
       "        -0.40317695,  1.22244507,  0.20827498,  0.97663904,  0.3563664 ,\n",
       "         0.70657317,  0.01050002,  1.78587049,  0.12691209,  0.40198936]),\n",
       " 'experience1': array([ 1.8831507 , -1.34775906, -1.270485  ,  0.96939671, -1.17312341,\n",
       "         1.94362119, -0.41361898, -0.74745481,  1.92294203,  1.48051479,\n",
       "         1.86755896,  0.90604466, -0.86122569,  1.91006495, -0.26800337,\n",
       "         0.8024564 ,  0.94725197, -0.15501009,  0.61407937,  0.92220667,\n",
       "         0.37642553, -1.09940079,  0.29823817,  1.3263859 , -0.69456786,\n",
       "        -0.14963454, -0.43515355,  1.84926373,  0.67229476,  0.40746184,\n",
       "        -0.76991607,  0.53924919, -0.67433266,  0.03183056, -0.63584608,\n",
       "         0.67643329,  0.57659082, -0.20829876,  0.39600671, -1.09306151,\n",
       "        -1.49125759,  0.4393917 ,  0.1666735 ,  0.63503144,  2.38314477,\n",
       "         0.94447949, -0.91282223,  1.11701629, -1.31590741, -0.4615846 ,\n",
       "        -0.06824161,  1.71334272, -0.74475482, -0.82643854, -0.09845252,\n",
       "        -0.66347829,  1.12663592, -1.07993151, -1.14746865, -0.43782004,\n",
       "        -0.49803245,  1.92953205,  0.94942081,  0.08755124, -1.22543552,\n",
       "         0.84436298, -1.00021535, -1.5447711 ,  1.18802979,  0.31694261,\n",
       "         0.92085882,  0.31872765,  0.85683061, -0.65102559, -1.03424284,\n",
       "         0.68159452, -0.80340966, -0.68954978, -0.4555325 ,  0.01747916,\n",
       "        -0.35399391, -1.37495129, -0.6436184 , -2.22340315,  0.62523145,\n",
       "        -1.60205766, -1.10438334,  0.05216508, -0.739563  ,  1.5430146 ,\n",
       "        -1.29285691,  0.26705087, -0.03928282, -1.1680935 ,  0.52327666,\n",
       "        -0.17154633,  0.77179055,  0.82350415,  2.16323595,  1.33652795]),\n",
       " 'experience2': array([-0.36918184, -0.23937918,  1.0996596 ,  0.65526373,  0.64013153,\n",
       "        -1.61695604, -0.02432612, -0.73803091,  0.2799246 , -0.09815039,\n",
       "         0.91017891,  0.31721822,  0.78632796, -0.4664191 , -0.94444626,\n",
       "        -0.41004969, -0.01702041,  0.37915174,  2.25930895, -0.04225715,\n",
       "        -0.955945  , -0.34598178, -0.46359597,  0.48148147, -1.54079701,\n",
       "         0.06326199,  0.15650654,  0.23218104, -0.59731607, -0.23792173,\n",
       "        -1.42406091, -0.49331988, -0.54286148,  0.41605005, -1.15618243,\n",
       "         0.7811981 ,  1.49448454, -2.06998503,  0.42625873,  0.67690804,\n",
       "        -0.63743703, -0.39727181, -0.13288058, -0.29779088, -0.30901297,\n",
       "        -1.67600381,  1.15233156,  1.07961859, -0.81336426, -1.46642433,\n",
       "         0.52106488, -0.57578797,  0.14195316, -0.31932842,  0.69153875,\n",
       "         0.69474914, -0.72559738, -1.38336396, -1.5829384 ,  0.61037938,\n",
       "        -1.18885926, -0.50681635, -0.59631404, -0.0525673 , -1.93627981,\n",
       "         0.1887786 ,  0.52389102,  0.08842209, -0.31088617,  0.09740017,\n",
       "         0.39904635, -2.77259276,  1.95591231,  0.39009332, -0.65240858,\n",
       "        -0.39095338,  0.49374178, -0.11610394, -2.03068447,  2.06449286,\n",
       "        -0.11054066,  1.02017271, -0.69204985,  1.53637705,  0.28634369,\n",
       "         0.60884383, -1.04525337,  1.21114529,  0.68981816,  1.30184623,\n",
       "        -0.62808756, -0.48102712,  2.3039167 , -1.06001582, -0.1359497 ,\n",
       "         1.13689136,  0.09772497,  0.58295368, -0.39944903,  0.37005589]),\n",
       " 'experience3': array([-1.30652685,  1.65813068, -0.11816405, -0.6801782 ,  0.66638308,\n",
       "        -0.46071979, -1.33425847, -1.34671751,  0.69377315, -0.15957344,\n",
       "        -0.13370156,  1.07774381, -1.12682581, -0.73067775, -0.38487981,\n",
       "         0.09435159, -0.04217145, -0.28688719, -0.0616264 , -0.10730528,\n",
       "        -0.71960439, -0.81299299,  0.27451636, -0.89091508, -1.15735526,\n",
       "        -0.31229225, -0.15766702,  2.2567235 , -0.70470028,  0.94326072,\n",
       "         0.74718833, -1.18894496,  0.77325298, -1.18388064, -2.65917224,\n",
       "         0.60631952, -1.75589058,  0.45093446, -0.6840109 ,  1.6595508 ,\n",
       "         1.0685094 , -0.4533858 , -0.68783761, -1.2140774 , -0.44092263,\n",
       "        -0.2803555 , -0.36469354,  0.15670386,  0.5785215 ,  0.34965446,\n",
       "        -0.76414392, -1.43779147,  1.36453185, -0.68944918, -0.6522936 ,\n",
       "        -0.52118931, -1.84306955, -0.477974  , -0.47965581,  0.6203583 ,\n",
       "         0.69845715,  0.00377089,  0.93184837,  0.33996498, -0.01568211,\n",
       "         0.16092817, -0.19065349, -0.39484951, -0.26773354, -1.12801133,\n",
       "         0.28044171, -0.99312361,  0.84163126, -0.24945858,  0.04949498,\n",
       "         0.49383678,  0.64331447, -1.57062341, -0.20690368,  0.88017891,\n",
       "        -1.69810582,  0.38728048, -2.25556423, -1.02250684,  0.03863055,\n",
       "        -1.6567151 , -0.98551074, -1.47183501,  1.64813493,  0.16422776,\n",
       "         0.56729028, -0.2226751 , -0.35343175, -1.61647419, -0.29183736,\n",
       "        -0.76149221,  0.85792392,  1.14110187,  1.46657872,  0.85255194])}"
      ]
     },
     "execution_count": 2,
     "metadata": {},
     "output_type": "execute_result"
    }
   ],
   "source": [
    "# exo\n",
    "import numpy as np\n",
    "np.random.seed(0)\n",
    "dataset = {f\"experience{i}\":np.random.randn(100) for i in range(4)}\n",
    "dataset"
   ]
  },
  {
   "cell_type": "code",
   "execution_count": null,
   "id": "0fcfd074",
   "metadata": {},
   "outputs": [],
   "source": [
    "def graf(dataset):\n",
    "    "
   ]
  },
  {
   "cell_type": "code",
   "execution_count": null,
   "id": "bae5d49a",
   "metadata": {},
   "outputs": [],
   "source": [
    "#les 5 graphes les plus utiliseer \n",
    "#classification \n",
    "#iris flowers \n"
   ]
  },
  {
   "cell_type": "code",
   "execution_count": 3,
   "id": "c3714426",
   "metadata": {},
   "outputs": [
    {
     "name": "stdout",
     "output_type": "stream",
     "text": [
      "x contient 150 exemples et 4 variables\n",
      "il y a 3 classes\n"
     ]
    }
   ],
   "source": [
    "from sklearn.datasets import load_iris\n",
    "iris = load_iris()\n",
    "\n",
    "x= iris.data\n",
    "y = iris.target\n",
    "names = list(iris.target_names)\n",
    "\n",
    "print (f'x contient {x.shape[0]} exemples et {x.shape[1]} variables')\n",
    "print (f'il y a {np.unique(y).size} classes')"
   ]
  },
  {
   "cell_type": "code",
   "execution_count": 6,
   "id": "7f42b51f",
   "metadata": {},
   "outputs": [
    {
     "data": {
      "text/plain": [
       "Text(0, 0.5, 'largeur sépal')"
      ]
     },
     "execution_count": 6,
     "metadata": {},
     "output_type": "execute_result"
    },
    {
     "data": {
      "image/png": "[encoded data removed]",
      "text/plain": [
       "<Figure size 432x288 with 1 Axes>"
      ]
     },
     "metadata": {
      "needs_background": "light"
     },
     "output_type": "display_data"
    }
   ],
   "source": [
    "#graphe \n",
    "import matplotlib.pyplot as plt\n",
    "plt.scatter(x[:,0],x[:,1],c=y,alpha = 0.5,s=x[:,2]*100) #alpha transparance et s = taille des points \n",
    "plt.xlabel('longeur sépal')\n",
    "plt.ylabel('largeur sépal')"
   ]
  },
  {
   "cell_type": "code",
   "execution_count": 7,
   "id": "7644fbd3",
   "metadata": {},
   "outputs": [],
   "source": [
    "#graphique 3D\n",
    "\n",
    "#npl\n",
    "from mpl_toolkits.mplot3d import Axes3D\n",
    "import matplotlib.pyplot as plt"
   ]
  },
  {
   "cell_type": "code",
   "execution_count": null,
   "id": "ce9d3fed",
   "metadata": {},
   "outputs": [],
   "source": [
    "\n",
    "ax = plt.axes(projection = '3d')\n",
    "ax.scatter(x[:,0],x[:,1],x[:,2],c=y)"
   ]
  },
  {
   "cell_type": "code",
   "execution_count": null,
   "id": "2a1ae472",
   "metadata": {},
   "outputs": [],
   "source": [
    "import numpy as np\n",
    "f= lambda x,y: np.sin(x)+ np.cos(x,y)\n",
    "X = np.linspace(0,5,100)\n",
    "Y = np.linspace(0,5,100)\n",
    "X,Y = np.meshgrid(X,Y)\n",
    "Z = f(x,y)\n"
   ]
  },
  {
   "cell_type": "code",
   "execution_count": null,
   "id": "14a35d32",
   "metadata": {},
   "outputs": [],
   "source": [
    "Z.shape"
   ]
  },
  {
   "cell_type": "code",
   "execution_count": 46,
   "id": "067fdd81",
   "metadata": {},
   "outputs": [],
   "source": [
    "import matplotlib.pyplot as plt\n",
    "import numpy as np \n",
    "import pandas as pd\n",
    "#pandas marche avce matplotlib\n",
    "data = pd.read_excel('titanic3.xls')\n",
    "\n",
    "#dataframe passager du titanique \n",
    "#sex age classe s'il a survécu"
   ]
  },
  {
   "cell_type": "code",
   "execution_count": 47,
   "id": "906194d6",
   "metadata": {},
   "outputs": [
    {
     "data": {
      "text/plain": [
       "(1309, 14)"
      ]
     },
     "execution_count": 47,
     "metadata": {},
     "output_type": "execute_result"
    }
   ],
   "source": [
    "data.shape"
   ]
  },
  {
   "cell_type": "code",
   "execution_count": 48,
   "id": "3251fb21",
   "metadata": {},
   "outputs": [
    {
     "data": {
      "text/html": [
       "<div>\n",
       "<style scoped>\n",
       "    .dataframe tbody tr th:only-of-type {\n",
       "        vertical-align: middle;\n",
       "    }\n",
       "\n",
       "    .dataframe tbody tr th {\n",
       "        vertical-align: top;\n",
       "    }\n",
       "\n",
       "    .dataframe thead th {\n",
       "        text-align: right;\n",
       "    }\n",
       "</style>\n",
       "<table border=\"1\" class=\"dataframe\">\n",
       "  <thead>\n",
       "    <tr style=\"text-align: right;\">\n",
       "      <th></th>\n",
       "      <th>pclass</th>\n",
       "      <th>survived</th>\n",
       "      <th>name</th>\n",
       "      <th>sex</th>\n",
       "      <th>age</th>\n",
       "      <th>sibsp</th>\n",
       "      <th>parch</th>\n",
       "      <th>ticket</th>\n",
       "      <th>fare</th>\n",
       "      <th>cabin</th>\n",
       "      <th>embarked</th>\n",
       "      <th>boat</th>\n",
       "      <th>body</th>\n",
       "      <th>home.dest</th>\n",
       "    </tr>\n",
       "  </thead>\n",
       "  <tbody>\n",
       "    <tr>\n",
       "      <th>0</th>\n",
       "      <td>1</td>\n",
       "      <td>1</td>\n",
       "      <td>Allen, Miss. Elisabeth Walton</td>\n",
       "      <td>female</td>\n",
       "      <td>29.0000</td>\n",
       "      <td>0</td>\n",
       "      <td>0</td>\n",
       "      <td>24160</td>\n",
       "      <td>211.3375</td>\n",
       "      <td>B5</td>\n",
       "      <td>S</td>\n",
       "      <td>2</td>\n",
       "      <td>NaN</td>\n",
       "      <td>St Louis, MO</td>\n",
       "    </tr>\n",
       "    <tr>\n",
       "      <th>1</th>\n",
       "      <td>1</td>\n",
       "      <td>1</td>\n",
       "      <td>Allison, Master. Hudson Trevor</td>\n",
       "      <td>male</td>\n",
       "      <td>0.9167</td>\n",
       "      <td>1</td>\n",
       "      <td>2</td>\n",
       "      <td>113781</td>\n",
       "      <td>151.5500</td>\n",
       "      <td>C22 C26</td>\n",
       "      <td>S</td>\n",
       "      <td>11</td>\n",
       "      <td>NaN</td>\n",
       "      <td>Montreal, PQ / Chesterville, ON</td>\n",
       "    </tr>\n",
       "    <tr>\n",
       "      <th>2</th>\n",
       "      <td>1</td>\n",
       "      <td>0</td>\n",
       "      <td>Allison, Miss. Helen Loraine</td>\n",
       "      <td>female</td>\n",
       "      <td>2.0000</td>\n",
       "      <td>1</td>\n",
       "      <td>2</td>\n",
       "      <td>113781</td>\n",
       "      <td>151.5500</td>\n",
       "      <td>C22 C26</td>\n",
       "      <td>S</td>\n",
       "      <td>NaN</td>\n",
       "      <td>NaN</td>\n",
       "      <td>Montreal, PQ / Chesterville, ON</td>\n",
       "    </tr>\n",
       "    <tr>\n",
       "      <th>3</th>\n",
       "      <td>1</td>\n",
       "      <td>0</td>\n",
       "      <td>Allison, Mr. Hudson Joshua Creighton</td>\n",
       "      <td>male</td>\n",
       "      <td>30.0000</td>\n",
       "      <td>1</td>\n",
       "      <td>2</td>\n",
       "      <td>113781</td>\n",
       "      <td>151.5500</td>\n",
       "      <td>C22 C26</td>\n",
       "      <td>S</td>\n",
       "      <td>NaN</td>\n",
       "      <td>135.0</td>\n",
       "      <td>Montreal, PQ / Chesterville, ON</td>\n",
       "    </tr>\n",
       "    <tr>\n",
       "      <th>4</th>\n",
       "      <td>1</td>\n",
       "      <td>0</td>\n",
       "      <td>Allison, Mrs. Hudson J C (Bessie Waldo Daniels)</td>\n",
       "      <td>female</td>\n",
       "      <td>25.0000</td>\n",
       "      <td>1</td>\n",
       "      <td>2</td>\n",
       "      <td>113781</td>\n",
       "      <td>151.5500</td>\n",
       "      <td>C22 C26</td>\n",
       "      <td>S</td>\n",
       "      <td>NaN</td>\n",
       "      <td>NaN</td>\n",
       "      <td>Montreal, PQ / Chesterville, ON</td>\n",
       "    </tr>\n",
       "  </tbody>\n",
       "</table>\n",
       "</div>"
      ],
      "text/plain": [
       "   pclass  survived                                             name     sex  \\\n",
       "0       1         1                    Allen, Miss. Elisabeth Walton  female   \n",
       "1       1         1                   Allison, Master. Hudson Trevor    male   \n",
       "2       1         0                     Allison, Miss. Helen Loraine  female   \n",
       "3       1         0             Allison, Mr. Hudson Joshua Creighton    male   \n",
       "4       1         0  Allison, Mrs. Hudson J C (Bessie Waldo Daniels)  female   \n",
       "\n",
       "       age  sibsp  parch  ticket      fare    cabin embarked boat   body  \\\n",
       "0  29.0000      0      0   24160  211.3375       B5        S    2    NaN   \n",
       "1   0.9167      1      2  113781  151.5500  C22 C26        S   11    NaN   \n",
       "2   2.0000      1      2  113781  151.5500  C22 C26        S  NaN    NaN   \n",
       "3  30.0000      1      2  113781  151.5500  C22 C26        S  NaN  135.0   \n",
       "4  25.0000      1      2  113781  151.5500  C22 C26        S  NaN    NaN   \n",
       "\n",
       "                         home.dest  \n",
       "0                     St Louis, MO  \n",
       "1  Montreal, PQ / Chesterville, ON  \n",
       "2  Montreal, PQ / Chesterville, ON  \n",
       "3  Montreal, PQ / Chesterville, ON  \n",
       "4  Montreal, PQ / Chesterville, ON  "
      ]
     },
     "execution_count": 48,
     "metadata": {},
     "output_type": "execute_result"
    }
   ],
   "source": [
    "data.columns\n",
    "data.head()"
   ]
  },
  {
   "cell_type": "code",
   "execution_count": 42,
   "id": "1b3d1874",
   "metadata": {},
   "outputs": [],
   "source": [
    "#dataframe / serie (colonne)\n",
    "#serie = une colonne numpy + une axe d'index - personaliser \n",
    "#data = data.set_index('name')\n",
    "#data['age']"
   ]
  },
  {
   "cell_type": "code",
   "execution_count": 49,
   "id": "4a6cbc0b",
   "metadata": {},
   "outputs": [],
   "source": [
    "data = data.drop(['name','sibsp','parch','ticket','fare','cabin','embarked','boat','body','home.dest'],axis=1)"
   ]
  },
  {
   "cell_type": "code",
   "execution_count": 20,
   "id": "d7e7f400",
   "metadata": {},
   "outputs": [
    {
     "data": {
      "text/html": [
       "<div>\n",
       "<style scoped>\n",
       "    .dataframe tbody tr th:only-of-type {\n",
       "        vertical-align: middle;\n",
       "    }\n",
       "\n",
       "    .dataframe tbody tr th {\n",
       "        vertical-align: top;\n",
       "    }\n",
       "\n",
       "    .dataframe thead th {\n",
       "        text-align: right;\n",
       "    }\n",
       "</style>\n",
       "<table border=\"1\" class=\"dataframe\">\n",
       "  <thead>\n",
       "    <tr style=\"text-align: right;\">\n",
       "      <th></th>\n",
       "      <th>pclass</th>\n",
       "      <th>survived</th>\n",
       "      <th>sex</th>\n",
       "      <th>age</th>\n",
       "    </tr>\n",
       "  </thead>\n",
       "  <tbody>\n",
       "    <tr>\n",
       "      <th>0</th>\n",
       "      <td>1</td>\n",
       "      <td>1</td>\n",
       "      <td>female</td>\n",
       "      <td>29.0000</td>\n",
       "    </tr>\n",
       "    <tr>\n",
       "      <th>1</th>\n",
       "      <td>1</td>\n",
       "      <td>1</td>\n",
       "      <td>male</td>\n",
       "      <td>0.9167</td>\n",
       "    </tr>\n",
       "    <tr>\n",
       "      <th>2</th>\n",
       "      <td>1</td>\n",
       "      <td>0</td>\n",
       "      <td>female</td>\n",
       "      <td>2.0000</td>\n",
       "    </tr>\n",
       "    <tr>\n",
       "      <th>3</th>\n",
       "      <td>1</td>\n",
       "      <td>0</td>\n",
       "      <td>male</td>\n",
       "      <td>30.0000</td>\n",
       "    </tr>\n",
       "    <tr>\n",
       "      <th>4</th>\n",
       "      <td>1</td>\n",
       "      <td>0</td>\n",
       "      <td>female</td>\n",
       "      <td>25.0000</td>\n",
       "    </tr>\n",
       "  </tbody>\n",
       "</table>\n",
       "</div>"
      ],
      "text/plain": [
       "   pclass  survived     sex      age\n",
       "0       1         1  female  29.0000\n",
       "1       1         1    male   0.9167\n",
       "2       1         0  female   2.0000\n",
       "3       1         0    male  30.0000\n",
       "4       1         0  female  25.0000"
      ]
     },
     "execution_count": 20,
     "metadata": {},
     "output_type": "execute_result"
    }
   ],
   "source": [
    "data.head()"
   ]
  },
  {
   "cell_type": "code",
   "execution_count": 21,
   "id": "ea141fbe",
   "metadata": {},
   "outputs": [
    {
     "data": {
      "text/html": [
       "<div>\n",
       "<style scoped>\n",
       "    .dataframe tbody tr th:only-of-type {\n",
       "        vertical-align: middle;\n",
       "    }\n",
       "\n",
       "    .dataframe tbody tr th {\n",
       "        vertical-align: top;\n",
       "    }\n",
       "\n",
       "    .dataframe thead th {\n",
       "        text-align: right;\n",
       "    }\n",
       "</style>\n",
       "<table border=\"1\" class=\"dataframe\">\n",
       "  <thead>\n",
       "    <tr style=\"text-align: right;\">\n",
       "      <th></th>\n",
       "      <th>pclass</th>\n",
       "      <th>survived</th>\n",
       "      <th>age</th>\n",
       "    </tr>\n",
       "  </thead>\n",
       "  <tbody>\n",
       "    <tr>\n",
       "      <th>count</th>\n",
       "      <td>1309.000000</td>\n",
       "      <td>1309.000000</td>\n",
       "      <td>1046.000000</td>\n",
       "    </tr>\n",
       "    <tr>\n",
       "      <th>mean</th>\n",
       "      <td>2.294882</td>\n",
       "      <td>0.381971</td>\n",
       "      <td>29.881135</td>\n",
       "    </tr>\n",
       "    <tr>\n",
       "      <th>std</th>\n",
       "      <td>0.837836</td>\n",
       "      <td>0.486055</td>\n",
       "      <td>14.413500</td>\n",
       "    </tr>\n",
       "    <tr>\n",
       "      <th>min</th>\n",
       "      <td>1.000000</td>\n",
       "      <td>0.000000</td>\n",
       "      <td>0.166700</td>\n",
       "    </tr>\n",
       "    <tr>\n",
       "      <th>25%</th>\n",
       "      <td>2.000000</td>\n",
       "      <td>0.000000</td>\n",
       "      <td>21.000000</td>\n",
       "    </tr>\n",
       "    <tr>\n",
       "      <th>50%</th>\n",
       "      <td>3.000000</td>\n",
       "      <td>0.000000</td>\n",
       "      <td>28.000000</td>\n",
       "    </tr>\n",
       "    <tr>\n",
       "      <th>75%</th>\n",
       "      <td>3.000000</td>\n",
       "      <td>1.000000</td>\n",
       "      <td>39.000000</td>\n",
       "    </tr>\n",
       "    <tr>\n",
       "      <th>max</th>\n",
       "      <td>3.000000</td>\n",
       "      <td>1.000000</td>\n",
       "      <td>80.000000</td>\n",
       "    </tr>\n",
       "  </tbody>\n",
       "</table>\n",
       "</div>"
      ],
      "text/plain": [
       "            pclass     survived          age\n",
       "count  1309.000000  1309.000000  1046.000000\n",
       "mean      2.294882     0.381971    29.881135\n",
       "std       0.837836     0.486055    14.413500\n",
       "min       1.000000     0.000000     0.166700\n",
       "25%       2.000000     0.000000    21.000000\n",
       "50%       3.000000     0.000000    28.000000\n",
       "75%       3.000000     1.000000    39.000000\n",
       "max       3.000000     1.000000    80.000000"
      ]
     },
     "execution_count": 21,
     "metadata": {},
     "output_type": "execute_result"
    }
   ],
   "source": [
    "data.describe() #pourcentage , les statistiqyue de bases de chaque colonnes "
   ]
  },
  {
   "cell_type": "code",
   "execution_count": 24,
   "id": "9f0098da",
   "metadata": {},
   "outputs": [
    {
     "data": {
      "text/html": [
       "<div>\n",
       "<style scoped>\n",
       "    .dataframe tbody tr th:only-of-type {\n",
       "        vertical-align: middle;\n",
       "    }\n",
       "\n",
       "    .dataframe tbody tr th {\n",
       "        vertical-align: top;\n",
       "    }\n",
       "\n",
       "    .dataframe thead th {\n",
       "        text-align: right;\n",
       "    }\n",
       "</style>\n",
       "<table border=\"1\" class=\"dataframe\">\n",
       "  <thead>\n",
       "    <tr style=\"text-align: right;\">\n",
       "      <th></th>\n",
       "      <th>pclass</th>\n",
       "      <th>survived</th>\n",
       "      <th>age</th>\n",
       "    </tr>\n",
       "  </thead>\n",
       "  <tbody>\n",
       "    <tr>\n",
       "      <th>count</th>\n",
       "      <td>1046.000000</td>\n",
       "      <td>1046.000000</td>\n",
       "      <td>1046.000000</td>\n",
       "    </tr>\n",
       "    <tr>\n",
       "      <th>mean</th>\n",
       "      <td>2.207457</td>\n",
       "      <td>0.408222</td>\n",
       "      <td>29.881135</td>\n",
       "    </tr>\n",
       "    <tr>\n",
       "      <th>std</th>\n",
       "      <td>0.841497</td>\n",
       "      <td>0.491740</td>\n",
       "      <td>14.413500</td>\n",
       "    </tr>\n",
       "    <tr>\n",
       "      <th>min</th>\n",
       "      <td>1.000000</td>\n",
       "      <td>0.000000</td>\n",
       "      <td>0.166700</td>\n",
       "    </tr>\n",
       "    <tr>\n",
       "      <th>25%</th>\n",
       "      <td>1.000000</td>\n",
       "      <td>0.000000</td>\n",
       "      <td>21.000000</td>\n",
       "    </tr>\n",
       "    <tr>\n",
       "      <th>50%</th>\n",
       "      <td>2.000000</td>\n",
       "      <td>0.000000</td>\n",
       "      <td>28.000000</td>\n",
       "    </tr>\n",
       "    <tr>\n",
       "      <th>75%</th>\n",
       "      <td>3.000000</td>\n",
       "      <td>1.000000</td>\n",
       "      <td>39.000000</td>\n",
       "    </tr>\n",
       "    <tr>\n",
       "      <th>max</th>\n",
       "      <td>3.000000</td>\n",
       "      <td>1.000000</td>\n",
       "      <td>80.000000</td>\n",
       "    </tr>\n",
       "  </tbody>\n",
       "</table>\n",
       "</div>"
      ],
      "text/plain": [
       "            pclass     survived          age\n",
       "count  1046.000000  1046.000000  1046.000000\n",
       "mean      2.207457     0.408222    29.881135\n",
       "std       0.841497     0.491740    14.413500\n",
       "min       1.000000     0.000000     0.166700\n",
       "25%       1.000000     0.000000    21.000000\n",
       "50%       2.000000     0.000000    28.000000\n",
       "75%       3.000000     1.000000    39.000000\n",
       "max       3.000000     1.000000    80.000000"
      ]
     },
     "execution_count": 24,
     "metadata": {},
     "output_type": "execute_result"
    }
   ],
   "source": [
    "#on remarque qu'il manque des données \n",
    "#résolution = 1, compléter avec des valeurs défait ==> données corompues \n",
    "#2 = vaut mieux éliminer que créer des données non réelles \n",
    "\n",
    "data = data.dropna(axis=0)\n",
    "data.describe()"
   ]
  },
  {
   "cell_type": "code",
   "execution_count": 27,
   "id": "6c5cd5e3",
   "metadata": {},
   "outputs": [
    {
     "data": {
      "text/plain": [
       "<AxesSubplot:>"
      ]
     },
     "execution_count": 27,
     "metadata": {},
     "output_type": "execute_result"
    },
    {
     "data": {
      "image/png": "[encoded data removed]",
      "text/plain": [
       "<Figure size 432x288 with 1 Axes>"
      ]
     },
     "metadata": {
      "needs_background": "light"
     },
     "output_type": "display_data"
    }
   ],
   "source": [
    "data['pclass'].value_counts().plot.bar()"
   ]
  },
  {
   "cell_type": "code",
   "execution_count": 33,
   "id": "2e23dbb5",
   "metadata": {},
   "outputs": [
    {
     "data": {
      "text/html": [
       "<div>\n",
       "<style scoped>\n",
       "    .dataframe tbody tr th:only-of-type {\n",
       "        vertical-align: middle;\n",
       "    }\n",
       "\n",
       "    .dataframe tbody tr th {\n",
       "        vertical-align: top;\n",
       "    }\n",
       "\n",
       "    .dataframe thead th {\n",
       "        text-align: right;\n",
       "    }\n",
       "</style>\n",
       "<table border=\"1\" class=\"dataframe\">\n",
       "  <thead>\n",
       "    <tr style=\"text-align: right;\">\n",
       "      <th></th>\n",
       "      <th></th>\n",
       "      <th>survived</th>\n",
       "      <th>age</th>\n",
       "    </tr>\n",
       "    <tr>\n",
       "      <th>sex</th>\n",
       "      <th>pclass</th>\n",
       "      <th></th>\n",
       "      <th></th>\n",
       "    </tr>\n",
       "  </thead>\n",
       "  <tbody>\n",
       "    <tr>\n",
       "      <th rowspan=\"3\" valign=\"top\">female</th>\n",
       "      <th>1</th>\n",
       "      <td>0.962406</td>\n",
       "      <td>37.037594</td>\n",
       "    </tr>\n",
       "    <tr>\n",
       "      <th>2</th>\n",
       "      <td>0.893204</td>\n",
       "      <td>27.499191</td>\n",
       "    </tr>\n",
       "    <tr>\n",
       "      <th>3</th>\n",
       "      <td>0.473684</td>\n",
       "      <td>22.185307</td>\n",
       "    </tr>\n",
       "    <tr>\n",
       "      <th rowspan=\"3\" valign=\"top\">male</th>\n",
       "      <th>1</th>\n",
       "      <td>0.350993</td>\n",
       "      <td>41.029250</td>\n",
       "    </tr>\n",
       "    <tr>\n",
       "      <th>2</th>\n",
       "      <td>0.145570</td>\n",
       "      <td>30.815401</td>\n",
       "    </tr>\n",
       "    <tr>\n",
       "      <th>3</th>\n",
       "      <td>0.169054</td>\n",
       "      <td>25.962273</td>\n",
       "    </tr>\n",
       "  </tbody>\n",
       "</table>\n",
       "</div>"
      ],
      "text/plain": [
       "               survived        age\n",
       "sex    pclass                     \n",
       "female 1       0.962406  37.037594\n",
       "       2       0.893204  27.499191\n",
       "       3       0.473684  22.185307\n",
       "male   1       0.350993  41.029250\n",
       "       2       0.145570  30.815401\n",
       "       3       0.169054  25.962273"
      ]
     },
     "execution_count": 33,
     "metadata": {},
     "output_type": "execute_result"
    }
   ],
   "source": [
    "#groupby \n",
    "data.groupby(['sex','pclass']).mean()"
   ]
  },
  {
   "cell_type": "code",
   "execution_count": 50,
   "id": "fe8033ea",
   "metadata": {},
   "outputs": [
    {
     "data": {
      "text/plain": [
       "0    29.0000\n",
       "1     0.9167\n",
       "2     2.0000\n",
       "3    30.0000\n",
       "4    25.0000\n",
       "5    48.0000\n",
       "6    63.0000\n",
       "7    39.0000\n",
       "8    53.0000\n",
       "9    71.0000\n",
       "Name: age, dtype: float64"
      ]
     },
     "execution_count": 50,
     "metadata": {},
     "output_type": "execute_result"
    }
   ],
   "source": [
    "data['age'][0:10]"
   ]
  },
  {
   "cell_type": "code",
   "execution_count": 53,
   "id": "ab87ba3d",
   "metadata": {},
   "outputs": [
    {
     "data": {
      "text/plain": [
       "pclass  survived  sex     age    \n",
       "3       0         male    17.0000    9\n",
       "                          16.0000    8\n",
       "                  female  9.0000     4\n",
       "                          2.0000     4\n",
       "        1         female  16.0000    4\n",
       "                                    ..\n",
       "1       0         male    17.0000    1\n",
       "3       0         female  16.0000    1\n",
       "                  male    0.3333     1\n",
       "                          0.7500     1\n",
       "        1         male    16.0000    1\n",
       "Length: 89, dtype: int64"
      ]
     },
     "execution_count": 53,
     "metadata": {},
     "output_type": "execute_result"
    }
   ],
   "source": [
    "data[data['age']<18].value_counts() #on selectionne que les mineur"
   ]
  },
  {
   "cell_type": "code",
   "execution_count": 54,
   "id": "a0dc81dd",
   "metadata": {},
   "outputs": [
    {
     "data": {
      "text/html": [
       "<div>\n",
       "<style scoped>\n",
       "    .dataframe tbody tr th:only-of-type {\n",
       "        vertical-align: middle;\n",
       "    }\n",
       "\n",
       "    .dataframe tbody tr th {\n",
       "        vertical-align: top;\n",
       "    }\n",
       "\n",
       "    .dataframe thead th {\n",
       "        text-align: right;\n",
       "    }\n",
       "</style>\n",
       "<table border=\"1\" class=\"dataframe\">\n",
       "  <thead>\n",
       "    <tr style=\"text-align: right;\">\n",
       "      <th></th>\n",
       "      <th></th>\n",
       "      <th>survived</th>\n",
       "      <th>age</th>\n",
       "    </tr>\n",
       "    <tr>\n",
       "      <th>sex</th>\n",
       "      <th>pclass</th>\n",
       "      <th></th>\n",
       "      <th></th>\n",
       "    </tr>\n",
       "  </thead>\n",
       "  <tbody>\n",
       "    <tr>\n",
       "      <th rowspan=\"3\" valign=\"top\">female</th>\n",
       "      <th>1</th>\n",
       "      <td>0.875000</td>\n",
       "      <td>14.125000</td>\n",
       "    </tr>\n",
       "    <tr>\n",
       "      <th>2</th>\n",
       "      <td>1.000000</td>\n",
       "      <td>8.273150</td>\n",
       "    </tr>\n",
       "    <tr>\n",
       "      <th>3</th>\n",
       "      <td>0.543478</td>\n",
       "      <td>8.416667</td>\n",
       "    </tr>\n",
       "    <tr>\n",
       "      <th rowspan=\"3\" valign=\"top\">male</th>\n",
       "      <th>1</th>\n",
       "      <td>0.857143</td>\n",
       "      <td>9.845243</td>\n",
       "    </tr>\n",
       "    <tr>\n",
       "      <th>2</th>\n",
       "      <td>0.733333</td>\n",
       "      <td>6.222220</td>\n",
       "    </tr>\n",
       "    <tr>\n",
       "      <th>3</th>\n",
       "      <td>0.233333</td>\n",
       "      <td>9.838888</td>\n",
       "    </tr>\n",
       "  </tbody>\n",
       "</table>\n",
       "</div>"
      ],
      "text/plain": [
       "               survived        age\n",
       "sex    pclass                     \n",
       "female 1       0.875000  14.125000\n",
       "       2       1.000000   8.273150\n",
       "       3       0.543478   8.416667\n",
       "male   1       0.857143   9.845243\n",
       "       2       0.733333   6.222220\n",
       "       3       0.233333   9.838888"
      ]
     },
     "execution_count": 54,
     "metadata": {},
     "output_type": "execute_result"
    }
   ],
   "source": [
    "data[data['age']<18].groupby(['sex','pclass']).mean()"
   ]
  },
  {
   "cell_type": "code",
   "execution_count": null,
   "id": "62a2557b",
   "metadata": {},
   "outputs": [],
   "source": [
    "#iloc/ loc"
   ]
  },
  {
   "cell_type": "code",
   "execution_count": 58,
   "id": "b58493f1",
   "metadata": {},
   "outputs": [
    {
     "data": {
      "text/html": [
       "<div>\n",
       "<style scoped>\n",
       "    .dataframe tbody tr th:only-of-type {\n",
       "        vertical-align: middle;\n",
       "    }\n",
       "\n",
       "    .dataframe tbody tr th {\n",
       "        vertical-align: top;\n",
       "    }\n",
       "\n",
       "    .dataframe thead th {\n",
       "        text-align: right;\n",
       "    }\n",
       "</style>\n",
       "<table border=\"1\" class=\"dataframe\">\n",
       "  <thead>\n",
       "    <tr style=\"text-align: right;\">\n",
       "      <th></th>\n",
       "      <th>pclass</th>\n",
       "      <th>survived</th>\n",
       "      <th>sex</th>\n",
       "      <th>age</th>\n",
       "    </tr>\n",
       "  </thead>\n",
       "  <tbody>\n",
       "    <tr>\n",
       "      <th>0</th>\n",
       "      <td>1</td>\n",
       "      <td>1</td>\n",
       "      <td>female</td>\n",
       "      <td>29.0000</td>\n",
       "    </tr>\n",
       "    <tr>\n",
       "      <th>1</th>\n",
       "      <td>1</td>\n",
       "      <td>1</td>\n",
       "      <td>male</td>\n",
       "      <td>0.9167</td>\n",
       "    </tr>\n",
       "  </tbody>\n",
       "</table>\n",
       "</div>"
      ],
      "text/plain": [
       "   pclass  survived     sex      age\n",
       "0       1         1  female  29.0000\n",
       "1       1         1    male   0.9167"
      ]
     },
     "execution_count": 58,
     "metadata": {},
     "output_type": "execute_result"
    }
   ],
   "source": [
    "data.iloc[0:2,:] #faire de l'indexing "
   ]
  },
  {
   "cell_type": "code",
   "execution_count": 57,
   "id": "e8c83b3c",
   "metadata": {},
   "outputs": [
    {
     "data": {
      "text/html": [
       "<div>\n",
       "<style scoped>\n",
       "    .dataframe tbody tr th:only-of-type {\n",
       "        vertical-align: middle;\n",
       "    }\n",
       "\n",
       "    .dataframe tbody tr th {\n",
       "        vertical-align: top;\n",
       "    }\n",
       "\n",
       "    .dataframe thead th {\n",
       "        text-align: right;\n",
       "    }\n",
       "</style>\n",
       "<table border=\"1\" class=\"dataframe\">\n",
       "  <thead>\n",
       "    <tr style=\"text-align: right;\">\n",
       "      <th></th>\n",
       "      <th>age</th>\n",
       "      <th>sex</th>\n",
       "    </tr>\n",
       "  </thead>\n",
       "  <tbody>\n",
       "    <tr>\n",
       "      <th>0</th>\n",
       "      <td>29.0000</td>\n",
       "      <td>female</td>\n",
       "    </tr>\n",
       "    <tr>\n",
       "      <th>1</th>\n",
       "      <td>0.9167</td>\n",
       "      <td>male</td>\n",
       "    </tr>\n",
       "    <tr>\n",
       "      <th>2</th>\n",
       "      <td>2.0000</td>\n",
       "      <td>female</td>\n",
       "    </tr>\n",
       "  </tbody>\n",
       "</table>\n",
       "</div>"
      ],
      "text/plain": [
       "       age     sex\n",
       "0  29.0000  female\n",
       "1   0.9167    male\n",
       "2   2.0000  female"
      ]
     },
     "execution_count": 57,
     "metadata": {},
     "output_type": "execute_result"
    }
   ],
   "source": [
    "data.loc[0:2,['age','sex']]"
   ]
  },
  {
   "cell_type": "code",
   "execution_count": null,
   "id": "03665511",
   "metadata": {},
   "outputs": [],
   "source": [
    "#les catégories d'âge \n",
    "#figture enginer \n",
    "#times series \n",
    "\n",
    "bitcoin = pd.read_csv('.csv',index_col=\"Date\",parse_dates=True)\n"
   ]
  },
  {
   "cell_type": "code",
   "execution_count": null,
   "id": "87c3f227",
   "metadata": {},
   "outputs": [],
   "source": [
    "bitcoin['Close'].plot(figsize=(9,6)\n",
    "bitcoin.ibdex\n",
    "                      "
   ]
  },
  {
   "cell_type": "code",
   "execution_count": null,
   "id": "7be71005",
   "metadata": {},
   "outputs": [],
   "source": [
    "bitcoin['2019-09']['Close'].plot()\n",
    "#sclicing\n",
    "bitcoin['2019-09':'2019-12']['Close'].plot()\n",
    "#pandas s'adapte au format de date\n",
    "#'2019-03-20'"
   ]
  },
  {
   "cell_type": "code",
   "execution_count": null,
   "id": "f3452951",
   "metadata": {},
   "outputs": [],
   "source": [
    "bitcoin.loc['2019','Close'].resample('M').mean().plot(label='moyenne par moi',lw =3,ls=':',alpha = 0.9)\n"
   ]
  },
  {
   "cell_type": "code",
   "execution_count": null,
   "id": "daab0e17",
   "metadata": {},
   "outputs": [],
   "source": [
    "\n",
    "m = bitcoin.loc['2019','Close'].resample('W').agg(['mean','std','min','max'])\n",
    "m['mean']['2019'].plot(label='moyenne par semaine')\n",
    "plt.fill_between(m.index,m['max'],m['min'],alpha=0.2,label='zone de float par semaine')\n",
    "plt.legend()\n",
    "plt.show()"
   ]
  },
  {
   "cell_type": "code",
   "execution_count": null,
   "id": "a2cb4818",
   "metadata": {},
   "outputs": [],
   "source": [
    "#moving average \n",
    "#moyenne fênetre\n",
    "bitcoin.loc['2019','Close'].rolling(window = 7).mean()\n",
    "#redécale \n"
   ]
  },
  {
   "cell_type": "code",
   "execution_count": null,
   "id": "467b7537",
   "metadata": {},
   "outputs": [],
   "source": [
    "bitcoin.loc['2019','Close'].rolling(window = 7).mean().plot(label='non centre',lw =3,ls=':',alpha = 0.9)\n",
    "bitcoin.loc['2019','Close'].rolling(window = 7, centre = True).mean().plot(label='centre',lw =3,ls=':',alpha = 0.9)\n"
   ]
  },
  {
   "cell_type": "code",
   "execution_count": null,
   "id": "4cf756d3",
   "metadata": {},
   "outputs": [],
   "source": []
  }
 ],
 "metadata": {
  "kernelspec": {
   "display_name": "Python 3 (ipykernel)",
   "language": "python",
   "name": "python3"
  },
  "language_info": {
   "codemirror_mode": {
    "name": "ipython",
    "version": 3
   },
   "file_extension": ".py",
   "mimetype": "text/x-python",
   "name": "python",
   "nbconvert_exporter": "python",
   "pygments_lexer": "ipython3",
   "version": "3.9.12"
  }
 },
 "nbformat": 4,
 "nbformat_minor": 5
}
