{
 "cells": [
  {
   "cell_type": "code",
   "execution_count": 71,
   "id": "7d7ac9ad",
   "metadata": {},
   "outputs": [],
   "source": [
    "import numpy as np;\n",
    "from sklearn.datasets import make_regression\n",
    "#pour visualiser les données \n",
    "import matplotlib.pyplot as plt \n"
   ]
  },
  {
   "cell_type": "code",
   "execution_count": 72,
   "id": "3725b700",
   "metadata": {},
   "outputs": [
    {
     "data": {
      "text/plain": [
       "<matplotlib.collections.PathCollection at 0x7fa421493dc0>"
      ]
     },
     "execution_count": 72,
     "metadata": {},
     "output_type": "execute_result"
    },
    {
     "data": {
      "image/png": "[encoded data removed]",
      "text/plain": [
       "<Figure size 432x288 with 1 Axes>"
      ]
     },
     "metadata": {
      "needs_background": "light"
     },
     "output_type": "display_data"
    }
   ],
   "source": [
    "x,y = make_regression(n_samples = 100 , n_features = 1, noise = 10)\n",
    "plt.scatter(x,y)"
   ]
  },
  {
   "cell_type": "code",
   "execution_count": 73,
   "id": "b9367489",
   "metadata": {},
   "outputs": [
    {
     "name": "stdout",
     "output_type": "stream",
     "text": [
      "(100, 1)\n",
      "(100, 1)\n"
     ]
    }
   ],
   "source": [
    "print(x.shape)\n",
    "#make_regression , les dimentions des y sont incompletes -- donc [reshape] pour redimentionner\n",
    "y = y.reshape(y.shape[0],1) #on prend le nombre de lignes dans y appelé shape[0]\n",
    "print(y.shape)"
   ]
  },
  {
   "cell_type": "code",
   "execution_count": 74,
   "id": "4ce45ce1",
   "metadata": {},
   "outputs": [
    {
     "data": {
      "text/plain": [
       "array([[ 3.43676656e-01,  1.00000000e+00],\n",
       "       [ 1.22689510e+00,  1.00000000e+00],\n",
       "       [ 5.44335180e-01,  1.00000000e+00],\n",
       "       [-2.44399502e-01,  1.00000000e+00],\n",
       "       [ 8.15925010e-01,  1.00000000e+00],\n",
       "       [-2.67716305e-01,  1.00000000e+00],\n",
       "       [ 9.16653441e-01,  1.00000000e+00],\n",
       "       [ 3.89724321e-01,  1.00000000e+00],\n",
       "       [ 1.25374043e+00,  1.00000000e+00],\n",
       "       [-1.77626957e+00,  1.00000000e+00],\n",
       "       [-5.08503254e-01,  1.00000000e+00],\n",
       "       [ 6.71127955e-02,  1.00000000e+00],\n",
       "       [ 1.20935317e+00,  1.00000000e+00],\n",
       "       [ 2.07882379e+00,  1.00000000e+00],\n",
       "       [ 1.46466652e+00,  1.00000000e+00],\n",
       "       [-8.78901084e-01,  1.00000000e+00],\n",
       "       [ 1.91353157e+00,  1.00000000e+00],\n",
       "       [ 6.89846168e-01,  1.00000000e+00],\n",
       "       [ 1.17903970e+00,  1.00000000e+00],\n",
       "       [ 2.38600042e+00,  1.00000000e+00],\n",
       "       [ 1.71766469e+00,  1.00000000e+00],\n",
       "       [ 4.05732276e-01,  1.00000000e+00],\n",
       "       [-1.32385178e+00,  1.00000000e+00],\n",
       "       [-2.56041653e-01,  1.00000000e+00],\n",
       "       [-1.10137672e+00,  1.00000000e+00],\n",
       "       [ 4.66336859e-01,  1.00000000e+00],\n",
       "       [ 1.56934370e-02,  1.00000000e+00],\n",
       "       [-2.04254336e+00,  1.00000000e+00],\n",
       "       [ 1.56577926e+00,  1.00000000e+00],\n",
       "       [ 1.36862860e-01,  1.00000000e+00],\n",
       "       [ 1.15857578e+00,  1.00000000e+00],\n",
       "       [-1.51489962e-01,  1.00000000e+00],\n",
       "       [ 1.89034715e+00,  1.00000000e+00],\n",
       "       [-1.20128452e+00,  1.00000000e+00],\n",
       "       [-3.64573401e-01,  1.00000000e+00],\n",
       "       [ 1.11625820e+00,  1.00000000e+00],\n",
       "       [ 5.64396547e-01,  1.00000000e+00],\n",
       "       [ 5.48629623e-01,  1.00000000e+00],\n",
       "       [-9.21987493e-01,  1.00000000e+00],\n",
       "       [-9.66880735e-01,  1.00000000e+00],\n",
       "       [ 1.40738931e-01,  1.00000000e+00],\n",
       "       [-6.73942000e-01,  1.00000000e+00],\n",
       "       [-1.83885906e+00,  1.00000000e+00],\n",
       "       [-9.84572339e-02,  1.00000000e+00],\n",
       "       [ 1.35023396e+00,  1.00000000e+00],\n",
       "       [-6.36525219e-02,  1.00000000e+00],\n",
       "       [-3.01174072e-01,  1.00000000e+00],\n",
       "       [-1.70024423e-01,  1.00000000e+00],\n",
       "       [-4.90735934e-01,  1.00000000e+00],\n",
       "       [-1.13422568e+00,  1.00000000e+00],\n",
       "       [-4.96260435e-01,  1.00000000e+00],\n",
       "       [-5.24594057e-01,  1.00000000e+00],\n",
       "       [ 4.13081860e-01,  1.00000000e+00],\n",
       "       [ 1.37689403e+00,  1.00000000e+00],\n",
       "       [ 9.65140374e-01,  1.00000000e+00],\n",
       "       [-3.47651808e-01,  1.00000000e+00],\n",
       "       [-1.12253192e-01,  1.00000000e+00],\n",
       "       [-8.38786528e-01,  1.00000000e+00],\n",
       "       [-2.70032320e-01,  1.00000000e+00],\n",
       "       [ 9.20214016e-01,  1.00000000e+00],\n",
       "       [-1.42617698e+00,  1.00000000e+00],\n",
       "       [ 8.75946789e-01,  1.00000000e+00],\n",
       "       [-1.44843104e+00,  1.00000000e+00],\n",
       "       [ 3.53046713e-01,  1.00000000e+00],\n",
       "       [-1.53101787e+00,  1.00000000e+00],\n",
       "       [ 1.31962895e-01,  1.00000000e+00],\n",
       "       [-1.38130843e-01,  1.00000000e+00],\n",
       "       [-1.10377129e+00,  1.00000000e+00],\n",
       "       [ 5.37752425e-01,  1.00000000e+00],\n",
       "       [-9.80035714e-01,  1.00000000e+00],\n",
       "       [-1.36568071e+00,  1.00000000e+00],\n",
       "       [-1.83075555e+00,  1.00000000e+00],\n",
       "       [-6.44618086e-01,  1.00000000e+00],\n",
       "       [-6.80497726e-01,  1.00000000e+00],\n",
       "       [ 4.48588990e-01,  1.00000000e+00],\n",
       "       [ 8.34730093e-01,  1.00000000e+00],\n",
       "       [ 1.01434019e+00,  1.00000000e+00],\n",
       "       [-1.85601100e+00,  1.00000000e+00],\n",
       "       [ 3.71935388e-01,  1.00000000e+00],\n",
       "       [-1.06196935e+00,  1.00000000e+00],\n",
       "       [ 7.12321075e-01,  1.00000000e+00],\n",
       "       [ 1.65100696e+00,  1.00000000e+00],\n",
       "       [ 5.73068660e-01,  1.00000000e+00],\n",
       "       [ 1.11995369e+00,  1.00000000e+00],\n",
       "       [-1.16222633e+00,  1.00000000e+00],\n",
       "       [ 1.55301538e+00,  1.00000000e+00],\n",
       "       [ 2.46771121e+00,  1.00000000e+00],\n",
       "       [ 7.15640725e-01,  1.00000000e+00],\n",
       "       [-1.94528658e-01,  1.00000000e+00],\n",
       "       [ 2.07363645e+00,  1.00000000e+00],\n",
       "       [ 1.15907337e+00,  1.00000000e+00],\n",
       "       [-1.19003672e+00,  1.00000000e+00],\n",
       "       [-4.15412679e-03,  1.00000000e+00],\n",
       "       [-8.03512922e-01,  1.00000000e+00],\n",
       "       [-1.48109774e+00,  1.00000000e+00],\n",
       "       [ 9.45640689e-01,  1.00000000e+00],\n",
       "       [ 1.17179751e+00,  1.00000000e+00],\n",
       "       [-4.85733363e-01,  1.00000000e+00],\n",
       "       [ 6.26086693e-01,  1.00000000e+00],\n",
       "       [ 1.50367710e-03,  1.00000000e+00]])"
      ]
     },
     "execution_count": 74,
     "metadata": {},
     "output_type": "execute_result"
    }
   ],
   "source": [
    "#créer matrice X \n",
    "#hstake coller deux vecteurs numpy ensemble\n",
    "#je colle mon vexteur X à côté d'un vecteur des 1 qui a le même nombre de lignes que X\n",
    "X = np.hstack((x, np.ones(x.shape)))\n",
    "X"
   ]
  },
  {
   "cell_type": "code",
   "execution_count": 75,
   "id": "ffefb72f",
   "metadata": {},
   "outputs": [
    {
     "data": {
      "text/plain": [
       "array([[-0.33580347],\n",
       "       [ 0.23803819]])"
      ]
     },
     "execution_count": 75,
     "metadata": {},
     "output_type": "execute_result"
    }
   ],
   "source": [
    "theta = np.random.randn(2,1)\n",
    "theta.shape\n",
    "theta"
   ]
  },
  {
   "cell_type": "code",
   "execution_count": 76,
   "id": "e1dffcfd",
   "metadata": {},
   "outputs": [],
   "source": [
    "#Modèle linéraire \n",
    "\n",
    "def model (X,theta):\n",
    "    #profuit matriciel\n",
    "    return X.dot(theta)"
   ]
  },
  {
   "cell_type": "code",
   "execution_count": 77,
   "id": "6d4a1aa9",
   "metadata": {},
   "outputs": [
    {
     "data": {
      "text/plain": [
       "[<matplotlib.lines.Line2D at 0x7fa4213f03a0>]"
      ]
     },
     "execution_count": 77,
     "metadata": {},
     "output_type": "execute_result"
    },
    {
     "data": {
      "image/png": "[encoded data removed]",
      "text/plain": [
       "<Figure size 432x288 with 1 Axes>"
      ]
     },
     "metadata": {
      "needs_background": "light"
     },
     "output_type": "display_data"
    }
   ],
   "source": [
    "plt.scatter(x,y)\n",
    "plt.plot(x,model(X,theta),c ='r')"
   ]
  },
  {
   "cell_type": "code",
   "execution_count": 78,
   "id": "8c199472",
   "metadata": {},
   "outputs": [],
   "source": [
    "#fonction côut\n",
    "def cost_fonction(x,y,theta):\n",
    "    m = len(y)\n",
    "    return 1/(2*m)* np.sum((model(X,theta)-y)**2)"
   ]
  },
  {
   "cell_type": "code",
   "execution_count": 79,
   "id": "99251a24",
   "metadata": {},
   "outputs": [
    {
     "data": {
      "text/plain": [
       "1645.4298558041833"
      ]
     },
     "execution_count": 79,
     "metadata": {},
     "output_type": "execute_result"
    }
   ],
   "source": [
    "cost_fonction (X,y,theta) #on veut que ce soit proche du 0"
   ]
  },
  {
   "cell_type": "code",
   "execution_count": 80,
   "id": "e49206da",
   "metadata": {},
   "outputs": [],
   "source": [
    "#gradients et descente de gradients \n",
    "def grad(X,y,theta):\n",
    "    m = len(y)\n",
    "    return 1/m* X.T.dot(model(X,theta)-y)"
   ]
  },
  {
   "cell_type": "code",
   "execution_count": 90,
   "id": "7fbd696f",
   "metadata": {},
   "outputs": [],
   "source": [
    "# descente de gradients \n",
    "\n",
    "def gradient_descent(X,y,theta,learning_rate, n_iterations):\n",
    "    cost_history = np.zeros(n_iterations)\n",
    "    for i in range(0,n_iterations):\n",
    "        theta = theta - learning_rate * grad(X,y,theta)\n",
    "        cost_history[i] = cost_fonction(X,y,theta)\n",
    "    return theta, cost_history\n",
    "    "
   ]
  },
  {
   "cell_type": "code",
   "execution_count": 91,
   "id": "e37ba351",
   "metadata": {},
   "outputs": [
    {
     "data": {
      "text/plain": [
       "array([[52.48399526],\n",
       "       [-0.44178824]])"
      ]
     },
     "execution_count": 91,
     "metadata": {},
     "output_type": "execute_result"
    }
   ],
   "source": [
    "theta_final, cost_history = gradient_descent(X,y,theta,learning_rate = 0.01, n_iterations = 1000)#soit, entriaine plus, soit augmente alpha = learning_rate\n",
    "theta_final # ok j'ai changer le learning rate de 0.001 à 0.01  bcp mieux "
   ]
  },
  {
   "cell_type": "code",
   "execution_count": 97,
   "id": "b3c10078",
   "metadata": {},
   "outputs": [
    {
     "data": {
      "text/plain": [
       "[<matplotlib.lines.Line2D at 0x7fa42091dd90>]"
      ]
     },
     "execution_count": 97,
     "metadata": {},
     "output_type": "execute_result"
    },
    {
     "data": {
      "image/png": "[encoded data removed]",
      "text/plain": [
       "<Figure size 432x288 with 1 Axes>"
      ]
     },
     "metadata": {
      "needs_background": "light"
     },
     "output_type": "display_data"
    }
   ],
   "source": [
    "#créer un vecteur de prédiction \n",
    "prediction = model(X,theta_final)\n",
    "plt.scatter(x,y)\n",
    "plt.plot(x,prediction,c='r')"
   ]
  },
  {
   "cell_type": "code",
   "execution_count": 98,
   "id": "d325ac24",
   "metadata": {},
   "outputs": [
    {
     "data": {
      "text/plain": [
       "[<matplotlib.lines.Line2D at 0x7fa420d0bd90>]"
      ]
     },
     "execution_count": 98,
     "metadata": {},
     "output_type": "execute_result"
    },
    {
     "data": {
      "image/png": "[encoded data removed]",
      "text/plain": [
       "<Figure size 432x288 with 1 Axes>"
      ]
     },
     "metadata": {
      "needs_background": "light"
     },
     "output_type": "display_data"
    }
   ],
   "source": [
    "plt.plot(range(1000),cost_history) # à traver les 1000 iteration comment la machine a réussi a minimiser les erreurs"
   ]
  },
  {
   "cell_type": "code",
   "execution_count": 102,
   "id": "99d42954",
   "metadata": {},
   "outputs": [],
   "source": [
    "#évaluer  la performation du modèle pour montrer aux gens \n",
    "# la coéficient de détermination \n",
    "#moindre carré\n",
    "#R²\n",
    "def coef_determination (y,predi):\n",
    "    u = ((y-predi)**2).sum()#residu de la somme des carrée\n",
    "    v = ((y - y.mean())**2).sum()\n",
    "    return 1 - u/v"
   ]
  },
  {
   "cell_type": "code",
   "execution_count": 103,
   "id": "25894e15",
   "metadata": {},
   "outputs": [
    {
     "data": {
      "text/plain": [
       "0.9721696890554683"
      ]
     },
     "execution_count": 103,
     "metadata": {},
     "output_type": "execute_result"
    }
   ],
   "source": [
    "coef_determination (y,prediction)"
   ]
  }
 ],
 "metadata": {
  "kernelspec": {
   "display_name": "Python 3 (ipykernel)",
   "language": "python",
   "name": "python3"
  },
  "language_info": {
   "codemirror_mode": {
    "name": "ipython",
    "version": 3
   },
   "file_extension": ".py",
   "mimetype": "text/x-python",
   "name": "python",
   "nbconvert_exporter": "python",
   "pygments_lexer": "ipython3",
   "version": "3.9.12"
  }
 },
 "nbformat": 4,
 "nbformat_minor": 5
}
