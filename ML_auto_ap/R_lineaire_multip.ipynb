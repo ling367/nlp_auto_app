{
 "cells": [
  {
   "cell_type": "code",
   "execution_count": 3,
   "id": "7801fec1",
   "metadata": {},
   "outputs": [],
   "source": [
    "#convertir les equations sous forme matricielle \n",
    "#contenue de la matrice et theta\n",
    "import numpy as np;\n",
    "from sklearn.datasets import make_regression\n",
    "#pour visualiser les données \n",
    "import matplotlib.pyplot as plt "
   ]
  },
  {
   "cell_type": "code",
   "execution_count": 35,
   "id": "9c8b5d1a",
   "metadata": {},
   "outputs": [
    {
     "data": {
      "text/plain": [
       "<matplotlib.collections.PathCollection at 0x7f99f6857490>"
      ]
     },
     "execution_count": 35,
     "metadata": {},
     "output_type": "execute_result"
    },
    {
     "data": {
      "image/png": "[encoded data removed]",
      "text/plain": [
       "<Figure size 432x288 with 1 Axes>"
      ]
     },
     "metadata": {
      "needs_background": "light"
     },
     "output_type": "display_data"
    }
   ],
   "source": [
    "# un modèle polynomiale\n",
    "x,y = make_regression(n_samples = 100 , n_features = 1, noise = 10)\n",
    "y = y +abs(y/2)\n",
    "plt.scatter(x,y)"
   ]
  },
  {
   "cell_type": "code",
   "execution_count": 36,
   "id": "4eb92339",
   "metadata": {},
   "outputs": [
    {
     "name": "stdout",
     "output_type": "stream",
     "text": [
      "(100, 1)\n",
      "(100, 1)\n"
     ]
    }
   ],
   "source": [
    "print(x.shape)\n",
    "#make_regression , les dimentions des y sont incompletes -- donc [reshape] pour redimentionner\n",
    "y = y.reshape(y.shape[0],1) #on prend le nombre de lignes dans y appelé shape[0]\n",
    "print(y.shape)"
   ]
  },
  {
   "cell_type": "code",
   "execution_count": 37,
   "id": "d0844537",
   "metadata": {},
   "outputs": [
    {
     "name": "stdout",
     "output_type": "stream",
     "text": [
      "(100, 3)\n",
      "[[ 3.01448805e-01  5.49043536e-01  1.00000000e+00]\n",
      " [ 6.03992618e-01  7.77169620e-01  1.00000000e+00]\n",
      " [ 1.47443994e-04  1.21426518e-02  1.00000000e+00]\n",
      " [ 2.47273672e-01 -4.97266199e-01  1.00000000e+00]\n",
      " [ 3.06084932e-01 -5.53249430e-01  1.00000000e+00]\n",
      " [ 4.55329990e+00  2.13384627e+00  1.00000000e+00]\n",
      " [ 1.13422194e+00  1.06499856e+00  1.00000000e+00]\n",
      " [ 2.06299782e+00  1.43631397e+00  1.00000000e+00]\n",
      " [ 3.58677858e-01 -5.98897201e-01  1.00000000e+00]\n",
      " [ 1.54164572e+00  1.24163027e+00  1.00000000e+00]]\n"
     ]
    }
   ],
   "source": [
    "#créer matrice X \n",
    "#hstake coller deux vecteurs numpy ensemble\n",
    "#je colle mon vexteur X à côté d'un vecteur des 1 qui a le même nombre de lignes que X\n",
    "X = np.hstack((x, np.ones(x.shape)))\n",
    "X = np.hstack((x**2,X))\n",
    "print (X.shape)\n",
    "print (X[:10])#print juste les 10 première lignes "
   ]
  },
  {
   "cell_type": "code",
   "execution_count": 38,
   "id": "5398e79c",
   "metadata": {},
   "outputs": [
    {
     "data": {
      "text/plain": [
       "array([[0.14530437],\n",
       "       [0.8348596 ],\n",
       "       [0.96360069]])"
      ]
     },
     "execution_count": 38,
     "metadata": {},
     "output_type": "execute_result"
    }
   ],
   "source": [
    "theta = np.random.randn(3,1)\n",
    "theta.shape\n",
    "theta"
   ]
  },
  {
   "cell_type": "code",
   "execution_count": 39,
   "id": "4bfaf58f",
   "metadata": {},
   "outputs": [
    {
     "data": {
      "text/plain": [
       "[<matplotlib.lines.Line2D at 0x7f99f682efd0>]"
      ]
     },
     "execution_count": 39,
     "metadata": {},
     "output_type": "execute_result"
    },
    {
     "data": {
      "image/png": "[encoded data removed]",
      "text/plain": [
       "<Figure size 432x288 with 1 Axes>"
      ]
     },
     "metadata": {
      "needs_background": "light"
     },
     "output_type": "display_data"
    }
   ],
   "source": [
    "#Modèle linéraire \n",
    "\n",
    "def model (X,theta):\n",
    "    #profuit matriciel\n",
    "    return X.dot(theta)\n",
    "\n",
    "plt.scatter(x,y)\n",
    "plt.plot(x,model(X,theta),c ='r')"
   ]
  },
  {
   "cell_type": "code",
   "execution_count": 40,
   "id": "eccbc629",
   "metadata": {},
   "outputs": [],
   "source": [
    "#fonction côut\n",
    "def cost_fonction(x,y,theta):\n",
    "    m = len(y)\n",
    "    return 1/(2*m)* np.sum((model(X,theta)-y)**2)"
   ]
  },
  {
   "cell_type": "code",
   "execution_count": 41,
   "id": "a533a14d",
   "metadata": {},
   "outputs": [
    {
     "data": {
      "text/plain": [
       "5853.974559202524"
      ]
     },
     "execution_count": 41,
     "metadata": {},
     "output_type": "execute_result"
    }
   ],
   "source": [
    "cost_fonction (X,y,theta) #on veut que ce soit proche du 0"
   ]
  },
  {
   "cell_type": "code",
   "execution_count": 42,
   "id": "f8cf249f",
   "metadata": {},
   "outputs": [],
   "source": [
    "#gradients et descente de gradients \n",
    "def grad(X,y,theta):\n",
    "    m = len(y)\n",
    "    return 1/m* X.T.dot(model(X,theta)-y)"
   ]
  },
  {
   "cell_type": "code",
   "execution_count": 43,
   "id": "057bf8ef",
   "metadata": {},
   "outputs": [],
   "source": [
    "# descente de gradients \n",
    "\n",
    "def gradient_descent(X,y,theta,learning_rate, n_iterations):\n",
    "    cost_history = np.zeros(n_iterations)\n",
    "    for i in range(0,n_iterations):\n",
    "        theta = theta - learning_rate * grad(X,y,theta)\n",
    "        cost_history[i] = cost_fonction(X,y,theta)\n",
    "    return theta, cost_history"
   ]
  },
  {
   "cell_type": "code",
   "execution_count": 44,
   "id": "170c4ebe",
   "metadata": {},
   "outputs": [
    {
     "data": {
      "text/plain": [
       "array([[25.40770471],\n",
       "       [99.54885241],\n",
       "       [16.42092529]])"
      ]
     },
     "execution_count": 44,
     "metadata": {},
     "output_type": "execute_result"
    }
   ],
   "source": [
    "theta_final, cost_history = gradient_descent(X,y,theta,learning_rate = 0.01, n_iterations = 1000)#soit, entriaine plus, soit augmente alpha = learning_rate\n",
    "theta_final # ok j'ai changer le learning rate de 0.001 à 0.01  bcp mieux "
   ]
  },
  {
   "cell_type": "code",
   "execution_count": 45,
   "id": "610b5728",
   "metadata": {},
   "outputs": [
    {
     "data": {
      "text/plain": [
       "[<matplotlib.lines.Line2D at 0x7f99f67997c0>]"
      ]
     },
     "execution_count": 45,
     "metadata": {},
     "output_type": "execute_result"
    },
    {
     "data": {
      "image/png": "[encoded data removed]",
      "text/plain": [
       "<Figure size 432x288 with 1 Axes>"
      ]
     },
     "metadata": {
      "needs_background": "light"
     },
     "output_type": "display_data"
    }
   ],
   "source": [
    "#créer un vecteur de prédiction \n",
    "prediction = model(X,theta_final)\n",
    "plt.scatter(x,y)\n",
    "plt.plot(x,prediction,c='r')"
   ]
  },
  {
   "cell_type": "code",
   "execution_count": 46,
   "id": "6f136703",
   "metadata": {},
   "outputs": [
    {
     "data": {
      "text/plain": [
       "[<matplotlib.lines.Line2D at 0x7f99f67727c0>]"
      ]
     },
     "execution_count": 46,
     "metadata": {},
     "output_type": "execute_result"
    },
    {
     "data": {
      "image/png": "[encoded data removed]",
      "text/plain": [
       "<Figure size 432x288 with 1 Axes>"
      ]
     },
     "metadata": {
      "needs_background": "light"
     },
     "output_type": "display_data"
    }
   ],
   "source": [
    "plt.plot(range(1000),cost_history) # à traver les 100"
   ]
  },
  {
   "cell_type": "code",
   "execution_count": 47,
   "id": "fa119813",
   "metadata": {},
   "outputs": [
    {
     "data": {
      "text/plain": [
       "0.9772295611859987"
      ]
     },
     "execution_count": 47,
     "metadata": {},
     "output_type": "execute_result"
    }
   ],
   "source": [
    "#évaluer  la performation du modèle pour montrer aux gens \n",
    "# la coéficient de détermination \n",
    "#moindre carré\n",
    "#R²\n",
    "def coef_determination (y,predi):\n",
    "    u = ((y-predi)**2).sum()#residu de la somme des carrée\n",
    "    v = ((y - y.mean())**2).sum()\n",
    "    return 1 - u/v\n",
    "coef_determination (y,prediction)"
   ]
  }
 ],
 "metadata": {
  "kernelspec": {
   "display_name": "Python 3 (ipykernel)",
   "language": "python",
   "name": "python3"
  },
  "language_info": {
   "codemirror_mode": {
    "name": "ipython",
    "version": 3
   },
   "file_extension": ".py",
   "mimetype": "text/x-python",
   "name": "python",
   "nbconvert_exporter": "python",
   "pygments_lexer": "ipython3",
   "version": "3.9.12"
  }
 },
 "nbformat": 4,
 "nbformat_minor": 5
}
